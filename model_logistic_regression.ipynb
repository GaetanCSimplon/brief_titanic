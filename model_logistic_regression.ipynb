{
 "cells": [
  {
   "cell_type": "markdown",
   "id": "2e50d6d2",
   "metadata": {},
   "source": [
    "ENTRAINEMENT DU MODELE DE REGRESSION LOGISTIQUE"
   ]
  },
  {
   "cell_type": "markdown",
   "id": "bddbf2d1",
   "metadata": {},
   "source": [
    "Importation et nettoyage des données\n"
   ]
  },
  {
   "cell_type": "code",
   "execution_count": 8,
   "id": "2cc8bd89",
   "metadata": {},
   "outputs": [],
   "source": [
    "import pandas as pd\n",
    "import matplotlib.pyplot as plt\n",
    "import plotly_express as px\n",
    "import numpy as nu\n",
    "from sklearn.model_selection import train_test_split # Pour le split train/test\n",
    "from sklearn.linear_model import LogisticRegression # Modèle de régression logistique pour un 1er entraînement de modèle\n",
    "from sklearn.metrics import accuracy_score, confusion_matrix, classification_report # Evaluation des résultats\n",
    "train = pd.read_csv('data/train.csv')"
   ]
  },
  {
   "cell_type": "code",
   "execution_count": 2,
   "id": "69534143",
   "metadata": {},
   "outputs": [],
   "source": [
    "# Extraction titre\n",
    "train['Title'] = train['Name'].str.extract(r',\\s*([^\\.]*)\\s*\\.', expand=False)\n",
    "train['Title'] = train['Title'].str.strip()\n",
    "# Verification des entrées concernées\n",
    "train[train['Age'].isnull()].groupby(['Title', 'Pclass', 'Sex', 'Parch']).size()\n",
    "# Conversion données NULL \n",
    "age_medians = train.groupby(['Title', 'Pclass'])['Age'].median()\n",
    "# Fonction pour imputer/remplacer les âges manquants en fonction des catégories concernées\n",
    "def impute_age(row):\n",
    "    if pd.isnull(row['Age']):\n",
    "        return age_medians.get((row['Title'], row['Pclass']), train['Age'].median())\n",
    "    return row['Age']\n",
    "# Application des changements à la table\n",
    "train['Age'] = train.apply(impute_age, axis=1)\n",
    "\n"
   ]
  },
  {
   "cell_type": "markdown",
   "id": "1cabc402",
   "metadata": {},
   "source": [
    "Conversion des données (str) de la colonne 'Sex' en valeurs numériques (int)\n",
    "=> Male = 1 / Female = 0"
   ]
  },
  {
   "cell_type": "code",
   "execution_count": 3,
   "id": "c5dbccd9",
   "metadata": {},
   "outputs": [],
   "source": [
    "from sklearn.preprocessing import LabelEncoder\n",
    "le = LabelEncoder()\n",
    "train['Sex'] = le.fit_transform(train['Sex'])\n"
   ]
  },
  {
   "cell_type": "markdown",
   "id": "03f64eee",
   "metadata": {},
   "source": [
    "MODELE 1 - Logistic Regression\n",
    "\n"
   ]
  },
  {
   "cell_type": "markdown",
   "id": "05e05d2e",
   "metadata": {},
   "source": [
    "Sélection des features et du target"
   ]
  },
  {
   "cell_type": "code",
   "execution_count": null,
   "id": "1e477b4b",
   "metadata": {},
   "outputs": [
    {
     "data": {
      "text/plain": [
       "0.7934904601571269"
      ]
     },
     "execution_count": 6,
     "metadata": {},
     "output_type": "execute_result"
    }
   ],
   "source": [
    "\n",
    "# Sélection des features\n",
    "features = ['Age', 'Pclass', 'Sex']\n",
    "X = train[features]\n",
    "\n",
    "# Sélection de la target (label)\n",
    "y = train['Survived']\n",
    "\n"
   ]
  },
  {
   "cell_type": "markdown",
   "id": "60a24e32",
   "metadata": {},
   "source": [
    "Séparation des données en train/test\n",
    "-> Paramètre de partage 20% test / 80% entrainement"
   ]
  },
  {
   "cell_type": "code",
   "execution_count": null,
   "id": "e447f688",
   "metadata": {},
   "outputs": [],
   "source": [
    "X_train, X_test, y_train, y_test = train_test_split(X, y, test_size=0.2, random_state=1)\n"
   ]
  },
  {
   "cell_type": "markdown",
   "id": "a5322438",
   "metadata": {},
   "source": [
    "Entrainement du modèle de Régression Logistique (LogisticRegression)"
   ]
  },
  {
   "cell_type": "code",
   "execution_count": 15,
   "id": "ee683ca6",
   "metadata": {},
   "outputs": [
    {
     "name": "stdout",
     "output_type": "stream",
     "text": [
      "Accuracy :  0.7877094972067039\n",
      "Matrice de confusion :  [[90 16]\n",
      " [22 51]]\n",
      "Rapport de classification :                precision    recall  f1-score   support\n",
      "\n",
      "           0       0.80      0.85      0.83       106\n",
      "           1       0.76      0.70      0.73        73\n",
      "\n",
      "    accuracy                           0.79       179\n",
      "   macro avg       0.78      0.77      0.78       179\n",
      "weighted avg       0.79      0.79      0.79       179\n",
      "\n"
     ]
    }
   ],
   "source": [
    "# Adaptation du modèle\n",
    "model = LogisticRegression(max_iter=1000)\n",
    "model.fit(X_train, y_train)\n",
    "\n",
    "# Prédiction\n",
    "y_pred = model.predict(X_test)\n",
    "\n",
    "# Evaluation\n",
    "\n",
    "print('Accuracy : ', accuracy_score(y_test, y_pred)) # Précision\n",
    "print('Matrice de confusion : ',confusion_matrix(y_test, y_pred)) # Croisement entre les vraies données et celles prédites\n",
    "print('Rapport de classification : ', classification_report(y_test, y_pred))\n"
   ]
  }
 ],
 "metadata": {
  "kernelspec": {
   "display_name": ".venv",
   "language": "python",
   "name": "python3"
  },
  "language_info": {
   "codemirror_mode": {
    "name": "ipython",
    "version": 3
   },
   "file_extension": ".py",
   "mimetype": "text/x-python",
   "name": "python",
   "nbconvert_exporter": "python",
   "pygments_lexer": "ipython3",
   "version": "3.12.3"
  }
 },
 "nbformat": 4,
 "nbformat_minor": 5
}
