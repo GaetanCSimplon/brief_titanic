{
 "cells": [
  {
   "cell_type": "markdown",
   "id": "1befab59",
   "metadata": {},
   "source": [
    "I - Initialisation </br>\n",
    "Import des librairies et modules"
   ]
  },
  {
   "cell_type": "code",
   "execution_count": 1,
   "id": "bd19b7d2",
   "metadata": {},
   "outputs": [],
   "source": [
    "\n",
    "import pandas as pd\n",
    "import matplotlib.pyplot as plt\n",
    "import plotly.express as px  # Correction ici\n",
    "import numpy as np\n",
    "from sklearn.model_selection import train_test_split\n",
    "from sklearn.ensemble import RandomForestClassifier\n",
    "from sklearn.metrics import accuracy_score, confusion_matrix, classification_report\n",
    "from sklearn.preprocessing import LabelEncoder\n"
   ]
  },
  {
   "cell_type": "markdown",
   "id": "611dfa08",
   "metadata": {},
   "source": [
    "II - Lecture et conversion des jeux de données </br>\n",
    "- Csv -> DataFrame </br>\n",
    "- Fusion des deux jeux de données"
   ]
  },
  {
   "cell_type": "code",
   "execution_count": 2,
   "id": "9ab453c3",
   "metadata": {},
   "outputs": [],
   "source": [
    "\n",
    "train = pd.read_csv('data/train.csv')\n",
    "test = pd.read_csv('data/test.csv')\n",
    "test['Survived'] = None\n",
    "full = pd.concat([train, test], sort=False)\n"
   ]
  },
  {
   "cell_type": "markdown",
   "id": "0cdb2537",
   "metadata": {},
   "source": [
    "III - Traitement des données </br>\n",
    "- Extraction des titres dans 'Name' et création d'une colonne 'Title' </br>\n",
    "- Remplacement des données manquantes : l'âge est déterminé par médiane par groupe </br>\n",
    "- Encodage des données de type 'str' en valeurs numériques utilisables par les modèles d'entrainement </br>\n",
    "- Suppression des colonnes (jugées) inutiles à l'analyse : 'Name', 'Ticket', 'Cabin'"
   ]
  },
  {
   "cell_type": "code",
   "execution_count": 3,
   "id": "fdca19e0",
   "metadata": {},
   "outputs": [],
   "source": [
    "\n",
    "# Extraction titre\n",
    "full['Title'] = full['Name'].str.extract(r',\\s*([^\\.]*)\\s*\\.', expand=False).str.strip()\n",
    "\n",
    "# Remplissage des âges manquants par médiane par groupe\n",
    "age_medians = full.groupby(['Title', 'Pclass'])['Age'].median()\n",
    "def impute_age(row):\n",
    "    if pd.isnull(row['Age']):\n",
    "        return age_medians.get((row['Title'], row['Pclass']), full['Age'].median())\n",
    "    return row['Age']\n",
    "full['Age'] = full.apply(impute_age, axis=1)\n",
    "\n",
    "# Encodage des variables catégorielles\n",
    "le = LabelEncoder()\n",
    "full['Sex'] = le.fit_transform(full['Sex'])\n",
    "full['Title'] = le.fit_transform(full['Title'])\n",
    "full['Embarked'] = full['Embarked'].fillna(full['Embarked'].mode()[0])\n",
    "full['Embarked'] = le.fit_transform(full['Embarked'])\n",
    "\n",
    "# Remplissage de 'Fare'\n",
    "full['Fare'] = full['Fare'].fillna(full['Fare'].median())\n",
    "\n",
    "# Suppression des colonnes inutiles\n",
    "full.drop(columns=['Cabin', 'Ticket', 'Name'], inplace=True)\n"
   ]
  },
  {
   "cell_type": "markdown",
   "id": "88f3d268",
   "metadata": {},
   "source": [
    "IV - Séparation des données en deux groupes </br>\n",
    "- train_cleaned = contient uniquement les lignes avec une valeur connue pour 'Survived'(utilisé pour entrainer le modèle)\n",
    "- test_cleaned = contient les lignes sans valeur de 'Survived' (utilisé pour faire des prédictions)"
   ]
  },
  {
   "cell_type": "code",
   "execution_count": null,
   "id": "b70a7304",
   "metadata": {},
   "outputs": [],
   "source": [
    "train_cleaned = full[full['Survived'].notnull()]\n",
    "test_cleaned = full[full['Survived'].isnull()]"
   ]
  },
  {
   "cell_type": "markdown",
   "id": "d19782ae",
   "metadata": {},
   "source": [
    "V - Sélection des features et de la target"
   ]
  },
  {
   "cell_type": "code",
   "execution_count": 5,
   "id": "600c67bc",
   "metadata": {},
   "outputs": [],
   "source": [
    "\n",
    "features = ['Age', 'Sex', 'Pclass', 'Title', 'Parch', 'Fare', 'SibSp']\n",
    "X = train_cleaned[features]\n",
    "y = train_cleaned['Survived'].astype(int)\n"
   ]
  },
  {
   "cell_type": "markdown",
   "id": "545f345d",
   "metadata": {},
   "source": [
    "VI - Division des données en 2 groupes : 80% pour l'entrainement, 20% pour le test"
   ]
  },
  {
   "cell_type": "code",
   "execution_count": 6,
   "id": "49521ba8",
   "metadata": {},
   "outputs": [],
   "source": [
    "\n",
    "X_train, X_test, y_train, y_test = train_test_split(X, y, test_size=0.2, random_state=1)\n"
   ]
  },
  {
   "cell_type": "markdown",
   "id": "165df98c",
   "metadata": {},
   "source": [
    "VII - Entrainement du modèle"
   ]
  },
  {
   "cell_type": "code",
   "execution_count": 17,
   "id": "882c15cd",
   "metadata": {},
   "outputs": [],
   "source": [
    "\n",
    "model = RandomForestClassifier(\n",
    "    n_estimators=100,\n",
    "    max_depth=None,\n",
    "    random_state=1)\n",
    "model.fit(X_train, y_train)\n",
    "y_pred = model.predict(X_test)\n"
   ]
  },
  {
   "cell_type": "markdown",
   "id": "66f86f52",
   "metadata": {},
   "source": [
    "VIII - Evaluation </br>\n"
   ]
  },
  {
   "cell_type": "code",
   "execution_count": 18,
   "id": "77f715be",
   "metadata": {},
   "outputs": [
    {
     "name": "stdout",
     "output_type": "stream",
     "text": [
      "Accuracy: 0.7988826815642458\n",
      "[[96 10]\n",
      " [26 47]]\n",
      "              precision    recall  f1-score   support\n",
      "\n",
      "           0       0.79      0.91      0.84       106\n",
      "           1       0.82      0.64      0.72        73\n",
      "\n",
      "    accuracy                           0.80       179\n",
      "   macro avg       0.81      0.77      0.78       179\n",
      "weighted avg       0.80      0.80      0.79       179\n",
      "\n"
     ]
    }
   ],
   "source": [
    "\n",
    "print(\"Accuracy:\", accuracy_score(y_test, y_pred))\n",
    "print(confusion_matrix(y_test, y_pred))\n",
    "print(classification_report(y_test, y_pred))\n"
   ]
  },
  {
   "cell_type": "markdown",
   "id": "c286877c",
   "metadata": {},
   "source": [
    "VIII.bis - Interprétation des résultats"
   ]
  },
  {
   "cell_type": "markdown",
   "id": "7208810f",
   "metadata": {},
   "source": [
    "- L'accuracy (précision) est estimée à 79~80%\n"
   ]
  },
  {
   "cell_type": "markdown",
   "id": "d6a8fd72",
   "metadata": {},
   "source": [
    "- La matrice de confusion : 96 Vrais Positif (prédits vivants et vivants) / 10 Faux Positifs (prédits vivants et morts) / 26 Faux Négatifs (prédits morts et vivants) / 47 Vrais Négatifs (prédits morts et morts)"
   ]
  },
  {
   "cell_type": "markdown",
   "id": "de2daef7",
   "metadata": {},
   "source": [
    "Classification report"
   ]
  },
  {
   "cell_type": "markdown",
   "id": "398869bc",
   "metadata": {},
   "source": [
    "- Classe 0 (mort) </br>\n",
    "1- Précision : 79% de bonnes prédictions sur les passagers effectivement mortes </br>\n",
    "2- Recall : Sur l'ensemble des vrais morts, 91% ont bien été prédits </br>\n",
    "3- F1-score : Moyenne entre precision et recall (84%)"
   ]
  },
  {
   "cell_type": "markdown",
   "id": "8ef76f83",
   "metadata": {},
   "source": [
    "- Classe 1 (vivant) </br>\n",
    "1- Précision : 82% de bonnes prédictions sur les passagers effectivement vivants </br>\n",
    "2- Recall : Sur l'ensemble des vrais vivants, 64% ont bien été prédits </br>\n",
    "3- F1-score : Moyenne entre precision et recall (72%)"
   ]
  },
  {
   "cell_type": "markdown",
   "id": "ad39e04f",
   "metadata": {},
   "source": [
    "Synthèse </br>\n",
    "Le modèle a une précision de 80%, ce qui signifie que sur 10 passagers, 8 ont reçus une prédiction en adéquation avec les données réelles. </br>\n",
    "On constate avec la matrice de confusion que le modèle est efficace pour prédire les morts (96/106) mais a des difficultés à prédire les survivants (47/73) avec en faux négatif 26 individus. </br>\n",
    "Le rapport de classification indique un rappel (recall) pour les morts élévé (0.91) mais plus faible pour les survivants (0.64). Ce qui peut se traduire par une tendance à prédire plus souvent la mort d'un passager. </br>\n",
    "En bref, le modèle est efficace en ce qui concerne la prédiction des morts mais doit être amélioré pour prédire les survivants.\n"
   ]
  },
  {
   "cell_type": "markdown",
   "id": "f2e4c961",
   "metadata": {},
   "source": [
    "IX - Exportation des résultats"
   ]
  },
  {
   "cell_type": "code",
   "execution_count": 10,
   "id": "9f8e7ddc",
   "metadata": {},
   "outputs": [],
   "source": [
    "\n",
    "X_test_final = test_cleaned[features]\n",
    "\n",
    "\n",
    "y_pred_final = model.predict(X_test_final)\n",
    "submission = test_cleaned[['PassengerId']].copy()\n",
    "submission['Survived'] = y_pred_final.astype(int)\n",
    "submission.to_csv('submission.csv', index=False)\n"
   ]
  }
 ],
 "metadata": {
  "kernelspec": {
   "display_name": ".venv",
   "language": "python",
   "name": "python3"
  },
  "language_info": {
   "codemirror_mode": {
    "name": "ipython",
    "version": 3
   },
   "file_extension": ".py",
   "mimetype": "text/x-python",
   "name": "python",
   "nbconvert_exporter": "python",
   "pygments_lexer": "ipython3",
   "version": "3.12.3"
  }
 },
 "nbformat": 4,
 "nbformat_minor": 5
}
