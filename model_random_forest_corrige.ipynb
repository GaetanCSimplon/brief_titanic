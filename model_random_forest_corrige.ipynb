{
 "cells": [
  {
   "cell_type": "markdown",
   "id": "1befab59",
   "metadata": {},
   "source": [
    "## I - Initialisation </br>\n",
    "Import des librairies et modules"
   ]
  },
  {
   "cell_type": "code",
   "execution_count": 20,
   "id": "bd19b7d2",
   "metadata": {},
   "outputs": [],
   "source": [
    "\n",
    "import pandas as pd\n",
    "import matplotlib.pyplot as plt\n",
    "import plotly.express as px \n",
    "import numpy as np\n",
    "from sklearn.model_selection import train_test_split\n",
    "from sklearn.ensemble import RandomForestClassifier\n",
    "from sklearn.metrics import accuracy_score, confusion_matrix, classification_report\n",
    "from sklearn.preprocessing import LabelEncoder\n"
   ]
  },
  {
   "cell_type": "markdown",
   "id": "611dfa08",
   "metadata": {},
   "source": [
    "## II - Lecture et conversion des jeux de données </br>\n",
    "- Csv -> DataFrame </br>\n",
    "- Fusion des deux jeux de données"
   ]
  },
  {
   "cell_type": "code",
   "execution_count": 21,
   "id": "9ab453c3",
   "metadata": {},
   "outputs": [
    {
     "name": "stdout",
     "output_type": "stream",
     "text": [
      "     PassengerId Survived  Pclass  \\\n",
      "0              1        0       3   \n",
      "1              2        1       1   \n",
      "2              3        1       3   \n",
      "3              4        1       1   \n",
      "4              5        0       3   \n",
      "..           ...      ...     ...   \n",
      "413         1305     None       3   \n",
      "414         1306     None       1   \n",
      "415         1307     None       3   \n",
      "416         1308     None       3   \n",
      "417         1309     None       3   \n",
      "\n",
      "                                                  Name     Sex   Age  SibSp  \\\n",
      "0                              Braund, Mr. Owen Harris    male  22.0      1   \n",
      "1    Cumings, Mrs. John Bradley (Florence Briggs Th...  female  38.0      1   \n",
      "2                               Heikkinen, Miss. Laina  female  26.0      0   \n",
      "3         Futrelle, Mrs. Jacques Heath (Lily May Peel)  female  35.0      1   \n",
      "4                             Allen, Mr. William Henry    male  35.0      0   \n",
      "..                                                 ...     ...   ...    ...   \n",
      "413                                 Spector, Mr. Woolf    male   NaN      0   \n",
      "414                       Oliva y Ocana, Dona. Fermina  female  39.0      0   \n",
      "415                       Saether, Mr. Simon Sivertsen    male  38.5      0   \n",
      "416                                Ware, Mr. Frederick    male   NaN      0   \n",
      "417                           Peter, Master. Michael J    male   NaN      1   \n",
      "\n",
      "     Parch              Ticket      Fare Cabin Embarked  \n",
      "0        0           A/5 21171    7.2500   NaN        S  \n",
      "1        0            PC 17599   71.2833   C85        C  \n",
      "2        0    STON/O2. 3101282    7.9250   NaN        S  \n",
      "3        0              113803   53.1000  C123        S  \n",
      "4        0              373450    8.0500   NaN        S  \n",
      "..     ...                 ...       ...   ...      ...  \n",
      "413      0           A.5. 3236    8.0500   NaN        S  \n",
      "414      0            PC 17758  108.9000  C105        C  \n",
      "415      0  SOTON/O.Q. 3101262    7.2500   NaN        S  \n",
      "416      0              359309    8.0500   NaN        S  \n",
      "417      1                2668   22.3583   NaN        C  \n",
      "\n",
      "[1309 rows x 12 columns]\n"
     ]
    }
   ],
   "source": [
    "\n",
    "train = pd.read_csv('data/train.csv')\n",
    "test = pd.read_csv('data/test.csv')\n",
    "test['Survived'] = None\n",
    "full = pd.concat([train, test], sort=False)\n",
    "print(full\n",
    ")\n"
   ]
  },
  {
   "cell_type": "markdown",
   "id": "0cdb2537",
   "metadata": {},
   "source": [
    "## III - Traitement des données </br>\n",
    "- Extraction des titres dans 'Name' et création d'une colonne 'Title' </br>\n",
    "- Remplacement des données manquantes : l'âge est déterminé par médiane par groupe </br>\n",
    "- Encodage des données de type 'str' en valeurs numériques utilisables par les modèles d'entrainement </br>\n",
    "- Suppression des colonnes (jugées) inutiles à l'analyse : 'Name', 'Ticket', 'Cabin'"
   ]
  },
  {
   "cell_type": "code",
   "execution_count": 22,
   "id": "fdca19e0",
   "metadata": {},
   "outputs": [],
   "source": [
    "\n",
    "# Extraction titre\n",
    "full['Title'] = full['Name'].str.extract(r',\\s*([^\\.]*)\\s*\\.', expand=False).str.strip()\n",
    "\n",
    "# Remplissage des âges manquants par médiane par groupe\n",
    "age_medians = full.groupby(['Title', 'Pclass'])['Age'].median()\n",
    "def impute_age(row):\n",
    "    if pd.isnull(row['Age']):\n",
    "        return age_medians.get((row['Title'], row['Pclass']), full['Age'].median())\n",
    "    return row['Age']\n",
    "full['Age'] = full.apply(impute_age, axis=1)\n",
    "\n",
    "# Encodage des variables catégorielles\n",
    "le = LabelEncoder()\n",
    "full['Sex'] = le.fit_transform(full['Sex'])\n",
    "full['Title'] = le.fit_transform(full['Title'])\n",
    "full['Embarked'] = full['Embarked'].fillna(full['Embarked'].mode()[0])\n",
    "full['Embarked'] = le.fit_transform(full['Embarked'])\n",
    "\n",
    "# Remplissage de 'Fare'\n",
    "full['Fare'] = full['Fare'].fillna(full['Fare'].median())\n",
    "\n",
    "# Suppression des colonnes inutiles\n",
    "full.drop(columns=['Cabin', 'Ticket', 'Name'], inplace=True)\n"
   ]
  },
  {
   "cell_type": "markdown",
   "id": "88f3d268",
   "metadata": {},
   "source": [
    "## IV - Séparation des données en deux groupes </br>\n",
    "- train_cleaned = contient uniquement les lignes avec une valeur connue pour 'Survived'(utilisé pour entrainer le modèle)\n",
    "- test_cleaned = contient les lignes sans valeur de 'Survived' (utilisé pour faire des prédictions)"
   ]
  },
  {
   "cell_type": "code",
   "execution_count": 23,
   "id": "b70a7304",
   "metadata": {},
   "outputs": [],
   "source": [
    "train_cleaned = full[full['Survived'].notnull()]\n",
    "test_cleaned = full[full['Survived'].isnull()]"
   ]
  },
  {
   "cell_type": "markdown",
   "id": "d19782ae",
   "metadata": {},
   "source": [
    "## V - Sélection des features et de la target"
   ]
  },
  {
   "cell_type": "code",
   "execution_count": 24,
   "id": "600c67bc",
   "metadata": {},
   "outputs": [],
   "source": [
    "\n",
    "features = ['Age', 'Sex', 'Pclass', 'Title', 'Parch', 'Fare', 'SibSp']\n",
    "X = train_cleaned[features]\n",
    "y = train_cleaned['Survived'].astype(int)\n"
   ]
  },
  {
   "cell_type": "markdown",
   "id": "545f345d",
   "metadata": {},
   "source": [
    "## VI - Division des données en 2 groupes </br>\n",
    "- 80% pour l'entrainement, 20% pour le test"
   ]
  },
  {
   "cell_type": "code",
   "execution_count": 25,
   "id": "49521ba8",
   "metadata": {},
   "outputs": [],
   "source": [
    "\n",
    "X_train, X_test, y_train, y_test = train_test_split(X, y, test_size=0.2, random_state=1)\n"
   ]
  },
  {
   "cell_type": "markdown",
   "id": "165df98c",
   "metadata": {},
   "source": [
    "## VII - Entrainement du modèle"
   ]
  },
  {
   "cell_type": "code",
   "execution_count": 26,
   "id": "882c15cd",
   "metadata": {},
   "outputs": [],
   "source": [
    "\n",
    "model = RandomForestClassifier(\n",
    "    n_estimators=100,\n",
    "    max_depth=None,\n",
    "    random_state=42)\n",
    "model.fit(X_train, y_train)\n",
    "y_pred = model.predict(X_test)\n"
   ]
  },
  {
   "cell_type": "markdown",
   "id": "66f86f52",
   "metadata": {},
   "source": [
    "## VIII - Evaluation </br>\n"
   ]
  },
  {
   "cell_type": "code",
   "execution_count": 27,
   "id": "77f715be",
   "metadata": {},
   "outputs": [
    {
     "name": "stdout",
     "output_type": "stream",
     "text": [
      "Accuracy: 0.7988826815642458\n",
      "[[95 11]\n",
      " [25 48]]\n",
      "              precision    recall  f1-score   support\n",
      "\n",
      "           0       0.79      0.90      0.84       106\n",
      "           1       0.81      0.66      0.73        73\n",
      "\n",
      "    accuracy                           0.80       179\n",
      "   macro avg       0.80      0.78      0.78       179\n",
      "weighted avg       0.80      0.80      0.79       179\n",
      "\n"
     ]
    }
   ],
   "source": [
    "\n",
    "print(\"Accuracy:\", accuracy_score(y_test, y_pred))\n",
    "print(confusion_matrix(y_test, y_pred))\n",
    "print(classification_report(y_test, y_pred))\n"
   ]
  },
  {
   "cell_type": "markdown",
   "id": "c286877c",
   "metadata": {},
   "source": [
    "VIII.bis - Interprétation des résultats"
   ]
  },
  {
   "cell_type": "markdown",
   "id": "7208810f",
   "metadata": {},
   "source": [
    "- L'accuracy (précision) est estimée à 79~80%\n"
   ]
  },
  {
   "cell_type": "markdown",
   "id": "d6a8fd72",
   "metadata": {},
   "source": [
    "- La matrice de confusion : 96 Vrais Positif (prédits vivants et vivants) / 10 Faux Positifs (prédits vivants et morts) / 26 Faux Négatifs (prédits morts et vivants) / 47 Vrais Négatifs (prédits morts et morts)"
   ]
  },
  {
   "cell_type": "markdown",
   "id": "de2daef7",
   "metadata": {},
   "source": [
    "Classification report"
   ]
  },
  {
   "cell_type": "markdown",
   "id": "398869bc",
   "metadata": {},
   "source": [
    "- Classe 0 (mort) </br>\n",
    "1- Précision : 79% de bonnes prédictions sur les passagers effectivement mortes </br>\n",
    "2- Recall : Sur l'ensemble des vrais morts, 91% ont bien été prédits </br>\n",
    "3- F1-score : Moyenne entre precision et recall (84%)"
   ]
  },
  {
   "cell_type": "markdown",
   "id": "8ef76f83",
   "metadata": {},
   "source": [
    "- Classe 1 (vivant) </br>\n",
    "1- Précision : 82% de bonnes prédictions sur les passagers effectivement vivants </br>\n",
    "2- Recall : Sur l'ensemble des vrais vivants, 64% ont bien été prédits </br>\n",
    "3- F1-score : Moyenne entre precision et recall (72%)"
   ]
  },
  {
   "cell_type": "markdown",
   "id": "ad39e04f",
   "metadata": {},
   "source": [
    "## Synthèse </br>\n",
    "Le modèle a une précision de 80%, ce qui signifie que sur 10 passagers, 8 ont reçus une prédiction en adéquation avec les données réelles. </br>\n",
    "On constate avec la matrice de confusion que le modèle est efficace pour prédire les morts (96/106) mais a des difficultés à prédire les survivants (47/73) avec en faux négatif 26 individus. </br>\n",
    "Le rapport de classification indique un rappel (recall) pour les morts élévé (0.91) mais plus faible pour les survivants (0.64). Ce qui peut se traduire par une tendance à prédire plus souvent la mort d'un passager. </br>\n",
    "En bref, le modèle est efficace en ce qui concerne la prédiction des morts mais doit être amélioré pour prédire les survivants.\n"
   ]
  },
  {
   "cell_type": "markdown",
   "id": "f2e4c961",
   "metadata": {},
   "source": [
    "IX - Exportation des résultats"
   ]
  },
  {
   "cell_type": "code",
   "execution_count": 28,
   "id": "9f8e7ddc",
   "metadata": {},
   "outputs": [],
   "source": [
    "\n",
    "X_test_final = test_cleaned[features]\n",
    "\n",
    "\n",
    "y_pred_final = model.predict(X_test_final)\n",
    "submission = test_cleaned[['PassengerId']].copy()\n",
    "submission['Survived'] = y_pred_final.astype(int)\n",
    "submission.to_csv('submission.csv', index=False)\n"
   ]
  },
  {
   "cell_type": "markdown",
   "id": "b21ba3aa",
   "metadata": {},
   "source": [
    "## X - Recherche de meilleurs hyperparamètres "
   ]
  },
  {
   "cell_type": "code",
   "execution_count": 32,
   "id": "3aaf39eb",
   "metadata": {},
   "outputs": [
    {
     "name": "stdout",
     "output_type": "stream",
     "text": [
      "Fitting 5 folds for each of 81 candidates, totalling 405 fits\n",
      "Meilleurs paramètres :  RandomForestClassifier(min_samples_leaf=2, min_samples_split=10,\n",
      "                       n_estimators=300, random_state=1)\n",
      "Meilleure précision :  0.8372795179210344\n"
     ]
    }
   ],
   "source": [
    "from sklearn.model_selection import GridSearchCV\n",
    "#  Définition des hyperparamètres à tester\n",
    "param_grid = {\n",
    "    'n_estimators': [100, 200, 300], # nb d'arbres\n",
    "    'max_depth': [None, 5, 10], # profondeur max.\n",
    "    'min_samples_split': [2, 5, 10], # min d'échantillons pour la division des noeuds\n",
    "    'min_samples_leaf': [1, 2, 4] # min d'échantillons dans une feuille\n",
    "}\n",
    "#  Création du GridSearch\n",
    "\n",
    "grid = GridSearchCV(\n",
    "    estimator= RandomForestClassifier(random_state=1),\n",
    "    param_grid= param_grid,\n",
    "    cv= 5, # cross validation - 5 plis\n",
    "    scoring='accuracy', # critère utilisé pour évaluer\n",
    "    verbose=1, # pour afficher la progression\n",
    "    n_jobs=1 # utilise tous les coeurs du processeur\n",
    ")\n",
    "\n",
    "grid.fit(X, y)\n",
    "\n",
    "print(\"Meilleurs paramètres : \", grid.best_estimator_)\n",
    "print(\"Meilleure précision : \", grid.best_score_)"
   ]
  },
  {
   "cell_type": "markdown",
   "id": "f2978cce",
   "metadata": {},
   "source": [
    "## XI - Utilisation des hyperparamètres recommandés </br>\n",
    "- Nombres d'échantillons minimal dans une feuille : 2\n",
    "- Nombres d'échantillons minimal pour la division des noeuds : 10\n",
    "- Nombres d'arbres optimal : 300\n"
   ]
  },
  {
   "cell_type": "code",
   "execution_count": 35,
   "id": "87e15f05",
   "metadata": {},
   "outputs": [
    {
     "name": "stdout",
     "output_type": "stream",
     "text": [
      "Accuracy :  0.9106145251396648\n",
      "Matrice de confusion :  [[101   5]\n",
      " [ 11  62]]\n",
      "Rapport de classification :                precision    recall  f1-score   support\n",
      "\n",
      "           0       0.90      0.95      0.93       106\n",
      "           1       0.93      0.85      0.89        73\n",
      "\n",
      "    accuracy                           0.91       179\n",
      "   macro avg       0.91      0.90      0.91       179\n",
      "weighted avg       0.91      0.91      0.91       179\n",
      "\n"
     ]
    }
   ],
   "source": [
    "best_model = grid.best_estimator_\n",
    "# Prédiction à partir du meilleur modèle\n",
    "y_pred = best_model.predict(X_test)\n",
    "#  Evaluation\n",
    "print('Accuracy : ', accuracy_score(y_test, y_pred))\n",
    "print('Matrice de confusion : ',confusion_matrix(y_test, y_pred))\n",
    "print('Rapport de classification : ', classification_report(y_test, y_pred))"
   ]
  }
 ],
 "metadata": {
  "kernelspec": {
   "display_name": ".venv",
   "language": "python",
   "name": "python3"
  },
  "language_info": {
   "codemirror_mode": {
    "name": "ipython",
    "version": 3
   },
   "file_extension": ".py",
   "mimetype": "text/x-python",
   "name": "python",
   "nbconvert_exporter": "python",
   "pygments_lexer": "ipython3",
   "version": "3.12.3"
  }
 },
 "nbformat": 4,
 "nbformat_minor": 5
}
