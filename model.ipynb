{
 "cells": [
  {
   "cell_type": "markdown",
   "id": "2e50d6d2",
   "metadata": {},
   "source": [
    "PARTIE UTILISATION D'UN MODELE"
   ]
  },
  {
   "cell_type": "markdown",
   "id": "bddbf2d1",
   "metadata": {},
   "source": [
    "Importation et nettoyage des données\n"
   ]
  },
  {
   "cell_type": "code",
   "execution_count": null,
   "id": "0a0f653d",
   "metadata": {},
   "outputs": [
    {
     "ename": "",
     "evalue": "",
     "output_type": "error",
     "traceback": [
      "\u001b[1;31mRunning cells with 'Python 3.12.3' requires the ipykernel package.\n",
      "\u001b[1;31mInstall 'ipykernel' into the Python environment. \n",
      "\u001b[1;31mCommand: '/bin/python3 -m pip install ipykernel -U --user --force-reinstall'"
     ]
    }
   ],
   "source": []
  },
  {
   "cell_type": "code",
   "execution_count": null,
   "id": "2cc8bd89",
   "metadata": {},
   "outputs": [],
   "source": [
    "import pandas as pd\n",
    "import matplotlib.pyplot as plt\n",
    "import plotly_express as px\n",
    "import numpy as np\n",
    "from sklearn.tree import DecisionTreeRegressor\n",
    "\n",
    "train = pd.read_csv('data/train.csv')"
   ]
  },
  {
   "cell_type": "code",
   "execution_count": null,
   "id": "69534143",
   "metadata": {},
   "outputs": [],
   "source": [
    "# Extraction titre\n",
    "train['Title'] = train['Name'].str.extract(r',\\s*([^\\.]*)\\s*\\.', expand=False)\n",
    "train['Title'] = train['Title'].str.strip()\n",
    "# Verification des entrées concernées\n",
    "train[train['Age'].isnull()].groupby(['Title', 'Pclass', 'Sex', 'Parch']).size()\n",
    "# Conversion données NULL \n",
    "age_medians = train.groupby(['Title', 'Pclass'])['Age'].median()\n",
    "# Fonction pour imputer/remplacer les âges manquants en fonction des catégories concernées\n",
    "def impute_age(row):\n",
    "    if pd.isnull(row['Age']):\n",
    "        return age_medians.get((row['Title'], row['Pclass']), train['Age'].median())\n",
    "    return row['Age']\n",
    "# Application des changements à la table\n",
    "train['Age'] = train.apply(impute_age, axis=1)\n",
    "\n"
   ]
  },
  {
   "cell_type": "markdown",
   "id": "1cabc402",
   "metadata": {},
   "source": [
    "Conversion des données (str) de la colonne 'Sex' en valeurs numériques (int)\n",
    "=> Male = 1 / Female = 0"
   ]
  },
  {
   "cell_type": "code",
   "execution_count": null,
   "id": "c5dbccd9",
   "metadata": {},
   "outputs": [],
   "source": [
    "from sklearn.preprocessing import LabelEncoder\n",
    "le = LabelEncoder()\n",
    "train['Sex'] = le.fit_transform(train['Sex'])\n"
   ]
  },
  {
   "cell_type": "markdown",
   "id": "03f64eee",
   "metadata": {},
   "source": [
    "Selection du modèle\n"
   ]
  }
 ],
 "metadata": {
  "kernelspec": {
   "display_name": "Python 3",
   "language": "python",
   "name": "python3"
  },
  "language_info": {
   "codemirror_mode": {
    "name": "ipython",
    "version": 3
   },
   "file_extension": ".py",
   "mimetype": "text/x-python",
   "name": "python",
   "nbconvert_exporter": "python",
   "pygments_lexer": "ipython3",
   "version": "3.12.3"
  }
 },
 "nbformat": 4,
 "nbformat_minor": 5
}
