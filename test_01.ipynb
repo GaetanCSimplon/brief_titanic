{
 "cells": [
  {
   "cell_type": "markdown",
   "id": "70926893",
   "metadata": {},
   "source": [
    "Vérification des données\n",
    "Import des librairies pandas, scikit-learn (module DecisionTreeRegressor)"
   ]
  },
  {
   "cell_type": "code",
   "execution_count": 1,
   "id": "75c79aa4",
   "metadata": {},
   "outputs": [
    {
     "data": {
      "text/html": [
       "<div>\n",
       "<style scoped>\n",
       "    .dataframe tbody tr th:only-of-type {\n",
       "        vertical-align: middle;\n",
       "    }\n",
       "\n",
       "    .dataframe tbody tr th {\n",
       "        vertical-align: top;\n",
       "    }\n",
       "\n",
       "    .dataframe thead th {\n",
       "        text-align: right;\n",
       "    }\n",
       "</style>\n",
       "<table border=\"1\" class=\"dataframe\">\n",
       "  <thead>\n",
       "    <tr style=\"text-align: right;\">\n",
       "      <th></th>\n",
       "      <th>PassengerId</th>\n",
       "      <th>Survived</th>\n",
       "      <th>Pclass</th>\n",
       "      <th>Name</th>\n",
       "      <th>Sex</th>\n",
       "      <th>Age</th>\n",
       "      <th>SibSp</th>\n",
       "      <th>Parch</th>\n",
       "      <th>Ticket</th>\n",
       "      <th>Fare</th>\n",
       "      <th>Cabin</th>\n",
       "      <th>Embarked</th>\n",
       "    </tr>\n",
       "  </thead>\n",
       "  <tbody>\n",
       "    <tr>\n",
       "      <th>0</th>\n",
       "      <td>1</td>\n",
       "      <td>0</td>\n",
       "      <td>3</td>\n",
       "      <td>Braund, Mr. Owen Harris</td>\n",
       "      <td>male</td>\n",
       "      <td>22.0</td>\n",
       "      <td>1</td>\n",
       "      <td>0</td>\n",
       "      <td>A/5 21171</td>\n",
       "      <td>7.2500</td>\n",
       "      <td>NaN</td>\n",
       "      <td>S</td>\n",
       "    </tr>\n",
       "    <tr>\n",
       "      <th>1</th>\n",
       "      <td>2</td>\n",
       "      <td>1</td>\n",
       "      <td>1</td>\n",
       "      <td>Cumings, Mrs. John Bradley (Florence Briggs Th...</td>\n",
       "      <td>female</td>\n",
       "      <td>38.0</td>\n",
       "      <td>1</td>\n",
       "      <td>0</td>\n",
       "      <td>PC 17599</td>\n",
       "      <td>71.2833</td>\n",
       "      <td>C85</td>\n",
       "      <td>C</td>\n",
       "    </tr>\n",
       "    <tr>\n",
       "      <th>2</th>\n",
       "      <td>3</td>\n",
       "      <td>1</td>\n",
       "      <td>3</td>\n",
       "      <td>Heikkinen, Miss. Laina</td>\n",
       "      <td>female</td>\n",
       "      <td>26.0</td>\n",
       "      <td>0</td>\n",
       "      <td>0</td>\n",
       "      <td>STON/O2. 3101282</td>\n",
       "      <td>7.9250</td>\n",
       "      <td>NaN</td>\n",
       "      <td>S</td>\n",
       "    </tr>\n",
       "    <tr>\n",
       "      <th>3</th>\n",
       "      <td>4</td>\n",
       "      <td>1</td>\n",
       "      <td>1</td>\n",
       "      <td>Futrelle, Mrs. Jacques Heath (Lily May Peel)</td>\n",
       "      <td>female</td>\n",
       "      <td>35.0</td>\n",
       "      <td>1</td>\n",
       "      <td>0</td>\n",
       "      <td>113803</td>\n",
       "      <td>53.1000</td>\n",
       "      <td>C123</td>\n",
       "      <td>S</td>\n",
       "    </tr>\n",
       "    <tr>\n",
       "      <th>4</th>\n",
       "      <td>5</td>\n",
       "      <td>0</td>\n",
       "      <td>3</td>\n",
       "      <td>Allen, Mr. William Henry</td>\n",
       "      <td>male</td>\n",
       "      <td>35.0</td>\n",
       "      <td>0</td>\n",
       "      <td>0</td>\n",
       "      <td>373450</td>\n",
       "      <td>8.0500</td>\n",
       "      <td>NaN</td>\n",
       "      <td>S</td>\n",
       "    </tr>\n",
       "  </tbody>\n",
       "</table>\n",
       "</div>"
      ],
      "text/plain": [
       "   PassengerId  Survived  Pclass  \\\n",
       "0            1         0       3   \n",
       "1            2         1       1   \n",
       "2            3         1       3   \n",
       "3            4         1       1   \n",
       "4            5         0       3   \n",
       "\n",
       "                                                Name     Sex   Age  SibSp  \\\n",
       "0                            Braund, Mr. Owen Harris    male  22.0      1   \n",
       "1  Cumings, Mrs. John Bradley (Florence Briggs Th...  female  38.0      1   \n",
       "2                             Heikkinen, Miss. Laina  female  26.0      0   \n",
       "3       Futrelle, Mrs. Jacques Heath (Lily May Peel)  female  35.0      1   \n",
       "4                           Allen, Mr. William Henry    male  35.0      0   \n",
       "\n",
       "   Parch            Ticket     Fare Cabin Embarked  \n",
       "0      0         A/5 21171   7.2500   NaN        S  \n",
       "1      0          PC 17599  71.2833   C85        C  \n",
       "2      0  STON/O2. 3101282   7.9250   NaN        S  \n",
       "3      0            113803  53.1000  C123        S  \n",
       "4      0            373450   8.0500   NaN        S  "
      ]
     },
     "execution_count": 1,
     "metadata": {},
     "output_type": "execute_result"
    }
   ],
   "source": [
    "import pandas as pd\n",
    "from sklearn.tree import DecisionTreeRegressor\n",
    "\n",
    "train = pd.read_csv('data/train.csv')\n",
    "\n",
    "train.describe()\n",
    "train.head()\n"
   ]
  },
  {
   "cell_type": "markdown",
   "id": "92145c47",
   "metadata": {},
   "source": [
    "Sélection d'une donnée à modéliser\n",
    "=> Colonne \"Survived\""
   ]
  },
  {
   "cell_type": "code",
   "execution_count": 7,
   "id": "1b5f4c64",
   "metadata": {},
   "outputs": [
    {
     "name": "stdout",
     "output_type": "stream",
     "text": [
      "Index(['PassengerId', 'Survived', 'Pclass', 'Name', 'Sex', 'Age', 'SibSp',\n",
      "       'Parch', 'Ticket', 'Fare', 'Cabin', 'Embarked'],\n",
      "      dtype='object')\n"
     ]
    }
   ],
   "source": [
    "# Affichage des colonnes\n",
    "print(train.columns)\n",
    "# Nettoyage des données manquantes\n",
    "train = train.dropna(axis=0)\n",
    "# Création d'une variable qui cible les données à analyser ('Survived')\n",
    "y = train.Survived\n"
   ]
  },
  {
   "cell_type": "markdown",
   "id": "537c96bf",
   "metadata": {},
   "source": [
    "Création d'un DataFrame (X) des données qui serviront à la prédiction\n",
    "=> Pour ce premier test, je sélectionne les colonnes (features) 'Pclass', 'Sex', 'Age' et les stocke dans une variable 'train_features'\n",
    "=> Création de la variable X contenant les features du DataFrame 'train'\n",
    "\n",
    "Conversion des données str en données numérique (int)\n",
    "=> L'arbre de décision traite uniquement des données numériques\n",
    "=> Utilisation d'un module sklearn (LabelEncoder) pour convertir les données de\n",
    "la colonne 'Sex'\n",
    "Après conversion, les valeur 'Male' = 0 et 'Female' = 1\n"
   ]
  },
  {
   "cell_type": "code",
   "execution_count": 3,
   "id": "54751432",
   "metadata": {},
   "outputs": [
    {
     "data": {
      "text/html": [
       "<div>\n",
       "<style scoped>\n",
       "    .dataframe tbody tr th:only-of-type {\n",
       "        vertical-align: middle;\n",
       "    }\n",
       "\n",
       "    .dataframe tbody tr th {\n",
       "        vertical-align: top;\n",
       "    }\n",
       "\n",
       "    .dataframe thead th {\n",
       "        text-align: right;\n",
       "    }\n",
       "</style>\n",
       "<table border=\"1\" class=\"dataframe\">\n",
       "  <thead>\n",
       "    <tr style=\"text-align: right;\">\n",
       "      <th></th>\n",
       "      <th>Pclass</th>\n",
       "      <th>Sex</th>\n",
       "      <th>Age</th>\n",
       "    </tr>\n",
       "  </thead>\n",
       "  <tbody>\n",
       "    <tr>\n",
       "      <th>1</th>\n",
       "      <td>1</td>\n",
       "      <td>0</td>\n",
       "      <td>38.0</td>\n",
       "    </tr>\n",
       "    <tr>\n",
       "      <th>3</th>\n",
       "      <td>1</td>\n",
       "      <td>0</td>\n",
       "      <td>35.0</td>\n",
       "    </tr>\n",
       "    <tr>\n",
       "      <th>6</th>\n",
       "      <td>1</td>\n",
       "      <td>1</td>\n",
       "      <td>54.0</td>\n",
       "    </tr>\n",
       "    <tr>\n",
       "      <th>10</th>\n",
       "      <td>3</td>\n",
       "      <td>0</td>\n",
       "      <td>4.0</td>\n",
       "    </tr>\n",
       "    <tr>\n",
       "      <th>11</th>\n",
       "      <td>1</td>\n",
       "      <td>0</td>\n",
       "      <td>58.0</td>\n",
       "    </tr>\n",
       "  </tbody>\n",
       "</table>\n",
       "</div>"
      ],
      "text/plain": [
       "    Pclass  Sex   Age\n",
       "1        1    0  38.0\n",
       "3        1    0  35.0\n",
       "6        1    1  54.0\n",
       "10       3    0   4.0\n",
       "11       1    0  58.0"
      ]
     },
     "execution_count": 3,
     "metadata": {},
     "output_type": "execute_result"
    }
   ],
   "source": [
    "# Import du module LabelEncoder pour convertir la colonne 'Sex' en valeur numérique\n",
    "\n",
    "from sklearn.preprocessing import LabelEncoder\n",
    "le = LabelEncoder()\n",
    "train['Sex'] = le.fit_transform(train['Sex'])\n",
    "\n",
    "# Sélection des features\n",
    "train_features = ['Pclass', 'Sex', 'Age']\n",
    "#  Stockage dans la variable X\n",
    "X = train[train_features]\n",
    "# Verification des données\n",
    "X.describe()\n",
    "X.head()"
   ]
  },
  {
   "cell_type": "markdown",
   "id": "537eaf17",
   "metadata": {},
   "source": [
    "Utilisation d'un arbre de décision (DecisionTreeRegressor)\n",
    "Stockage dans une variable (train_model)"
   ]
  },
  {
   "cell_type": "code",
   "execution_count": 4,
   "id": "e819666c",
   "metadata": {},
   "outputs": [
    {
     "name": "stdout",
     "output_type": "stream",
     "text": [
      "    Pclass  Sex   Age\n",
      "1        1    0  38.0\n",
      "3        1    0  35.0\n",
      "6        1    1  54.0\n",
      "10       3    0   4.0\n",
      "11       1    0  58.0\n",
      "[1. 1. 0. 1. 1.]\n"
     ]
    }
   ],
   "source": [
    "# Définition du modèle \n",
    "train_model = DecisionTreeRegressor(random_state=1)\n",
    "# Adaptation du modèle\n",
    "train_model.fit(X, y)\n",
    "# Print de la prédiction\n",
    "print(X.head())\n",
    "print(train_model.predict(X.head()))\n"
   ]
  },
  {
   "cell_type": "markdown",
   "id": "06e6de35",
   "metadata": {},
   "source": [
    "Validation du modèle\n",
    "=> Calcul de la moyenne absolue des erreurs (Mean Absolute Error)"
   ]
  },
  {
   "cell_type": "code",
   "execution_count": 5,
   "id": "1b1e6b14",
   "metadata": {},
   "outputs": [
    {
     "data": {
      "text/plain": [
       "0.07103825136612021"
      ]
     },
     "execution_count": 5,
     "metadata": {},
     "output_type": "execute_result"
    }
   ],
   "source": [
    "# Appel du module mean_absolute_error \n",
    "from sklearn.metrics import mean_absolute_error\n",
    "# Calcul de la moyenne des écarts entre les valeurs prédites et les valeurs des données réelles\n",
    "prediction_train_model = train_model.predict(X)\n",
    "mean_absolute_error(y, prediction_train_model)"
   ]
  },
  {
   "cell_type": "markdown",
   "id": "10cf55cb",
   "metadata": {},
   "source": [
    "Utilisation de la librairie sklearn \"train_test_split\" pour vérifier les données\n",
    "X = Données d'entrée (features ou les colonnes que l'on a choisi pour la prédiction)\n",
    "y = Cible à prédire (target)\n",
    "X_train = Données d'entrainement (features)\n",
    "X_test = Données de test (features)\n",
    "y_train = Cibles pour l'entrainement\n",
    "y_test = Cibles pour le test\n",
    "Le modèle est entraîné sur X_train et y_train puis testé sur X_test et y_test"
   ]
  },
  {
   "cell_type": "code",
   "execution_count": 9,
   "id": "83d917ae",
   "metadata": {},
   "outputs": [
    {
     "name": "stdout",
     "output_type": "stream",
     "text": [
      "0.15315315315315317\n"
     ]
    }
   ],
   "source": [
    "# Import du module train_test_split\n",
    "from sklearn.model_selection import train_test_split\n",
    "train_X, val_X, train_y, val_y = train_test_split(X, y, test_size=0.2, random_state=0)\n",
    "\n",
    "# # Définition du modèle\n",
    "prediction_train_model = DecisionTreeRegressor()\n",
    "# # Adaptation du modèle\n",
    "prediction_train_model.fit(train_X, train_y)\n",
    "# # Obtention d'une valeur prédictive sur les données validées\n",
    "val_predictions = prediction_train_model.predict(val_X)\n",
    "\n",
    "print(mean_absolute_error(val_y, val_predictions))"
   ]
  },
  {
   "cell_type": "markdown",
   "id": "5ccec58a",
   "metadata": {},
   "source": [
    "<span>Ce que je crois avoir compris :</span>\n",
    "- Une fois qu'on a \"entrainé\" une première fois un modèle de données (train_model), on vérifie l'écart de prédiction entre les données fournies et ce que notre modèle a prédit: cet écart moyen est obtenu avec le Mean Absolute Error (MAE). \n",
    "- La phase suivante consiste à séparer les données pour les entrainer et les évaluer avec train_test_split, cela permet de vérifier si notre modèle fonctionne sur d'autres données"
   ]
  },
  {
   "cell_type": "code",
   "execution_count": 12,
   "id": "41f75b7f",
   "metadata": {},
   "outputs": [
    {
     "name": "stdout",
     "output_type": "stream",
     "text": [
      "Feuilles : 5 \t MAE : 0.16216216216216217\n",
      "Feuilles : 25 \t MAE : 0.16216216216216217\n",
      "Feuilles : 50 \t MAE : 0.1891891891891892\n",
      "Feuilles : 100 \t MAE : 0.1891891891891892\n",
      "Feuilles : 250 \t MAE : 0.1891891891891892\n",
      "Feuilles : 500 \t MAE : 0.1891891891891892\n"
     ]
    }
   ],
   "source": [
    "from sklearn.tree import DecisionTreeClassifier\n",
    "from sklearn.metrics import mean_absolute_error\n",
    "\n",
    "def score_model(max_leaf_nodes, train_X, val_X, train_y, val_y):\n",
    "    model = DecisionTreeClassifier(max_leaf_nodes=max_leaf_nodes, random_state=0)\n",
    "    model.fit(train_X, train_y)\n",
    "    prediction = model.predict(val_X)\n",
    "    return mean_absolute_error(val_y, prediction)\n",
    "\n",
    "for max_leaf_nodes in [5, 25, 50, 100, 250, 500]:\n",
    "    mae = score_model(max_leaf_nodes, train_X, val_X, train_y, val_y)\n",
    "    print(f'Feuilles : {max_leaf_nodes} \\t MAE : {mae}')"
   ]
  }
 ],
 "metadata": {
  "kernelspec": {
   "display_name": ".venv",
   "language": "python",
   "name": "python3"
  },
  "language_info": {
   "codemirror_mode": {
    "name": "ipython",
    "version": 3
   },
   "file_extension": ".py",
   "mimetype": "text/x-python",
   "name": "python",
   "nbconvert_exporter": "python",
   "pygments_lexer": "ipython3",
   "version": "3.12.3"
  }
 },
 "nbformat": 4,
 "nbformat_minor": 5
}
