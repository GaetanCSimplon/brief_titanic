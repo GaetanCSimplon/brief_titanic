{
 "cells": [
  {
   "cell_type": "markdown",
   "id": "151ea4a7",
   "metadata": {},
   "source": [
    "ENTRAINEMENT DU MODELE DE FORET ALEATOIRE (RANDOM FOREST)"
   ]
  },
  {
   "cell_type": "markdown",
   "id": "884027e3",
   "metadata": {},
   "source": [
    "Importation des librairies"
   ]
  },
  {
   "cell_type": "code",
   "execution_count": 11,
   "id": "031e75fc",
   "metadata": {},
   "outputs": [],
   "source": [
    "import pandas as pd\n",
    "import matplotlib.pyplot as plt\n",
    "import plotly_express as px\n",
    "import numpy as nu\n",
    "from sklearn.model_selection import train_test_split # Pour le split train/test\n",
    "from sklearn.ensemble import RandomForestClassifier # Modèle sélectionné (catégorisation/regression)\n",
    "from sklearn.metrics import accuracy_score, confusion_matrix, classification_report # Evaluation des résultats\n",
    "\n",
    "train = pd.read_csv('data/train.csv')"
   ]
  },
  {
   "cell_type": "markdown",
   "id": "a99eab52",
   "metadata": {},
   "source": [
    "Nettoyage des données"
   ]
  },
  {
   "cell_type": "code",
   "execution_count": 12,
   "id": "5687c503",
   "metadata": {},
   "outputs": [
    {
     "data": {
      "application/vnd.microsoft.datawrangler.viewer.v0+json": {
       "columns": [
        {
         "name": "index",
         "rawType": "int64",
         "type": "integer"
        },
        {
         "name": "Title",
         "rawType": "object",
         "type": "string"
        },
        {
         "name": "Encoded",
         "rawType": "int64",
         "type": "integer"
        }
       ],
       "ref": "64de65df-f6dd-46d4-b7ee-28f43b7921d1",
       "rows": [
        [
         "0",
         "Capt",
         "0"
        ],
        [
         "1",
         "Col",
         "1"
        ],
        [
         "2",
         "Don",
         "2"
        ],
        [
         "3",
         "Dr",
         "3"
        ],
        [
         "4",
         "Jonkheer",
         "4"
        ],
        [
         "5",
         "Lady",
         "5"
        ],
        [
         "6",
         "Major",
         "6"
        ],
        [
         "7",
         "Master",
         "7"
        ],
        [
         "8",
         "Miss",
         "8"
        ],
        [
         "9",
         "Mlle",
         "9"
        ],
        [
         "10",
         "Mme",
         "10"
        ],
        [
         "11",
         "Mr",
         "11"
        ],
        [
         "12",
         "Mrs",
         "12"
        ],
        [
         "13",
         "Ms",
         "13"
        ],
        [
         "14",
         "Rev",
         "14"
        ],
        [
         "15",
         "Sir",
         "15"
        ],
        [
         "16",
         "the Countess",
         "16"
        ]
       ],
       "shape": {
        "columns": 2,
        "rows": 17
       }
      },
      "text/html": [
       "<div>\n",
       "<style scoped>\n",
       "    .dataframe tbody tr th:only-of-type {\n",
       "        vertical-align: middle;\n",
       "    }\n",
       "\n",
       "    .dataframe tbody tr th {\n",
       "        vertical-align: top;\n",
       "    }\n",
       "\n",
       "    .dataframe thead th {\n",
       "        text-align: right;\n",
       "    }\n",
       "</style>\n",
       "<table border=\"1\" class=\"dataframe\">\n",
       "  <thead>\n",
       "    <tr style=\"text-align: right;\">\n",
       "      <th></th>\n",
       "      <th>Title</th>\n",
       "      <th>Encoded</th>\n",
       "    </tr>\n",
       "  </thead>\n",
       "  <tbody>\n",
       "    <tr>\n",
       "      <th>0</th>\n",
       "      <td>Capt</td>\n",
       "      <td>0</td>\n",
       "    </tr>\n",
       "    <tr>\n",
       "      <th>1</th>\n",
       "      <td>Col</td>\n",
       "      <td>1</td>\n",
       "    </tr>\n",
       "    <tr>\n",
       "      <th>2</th>\n",
       "      <td>Don</td>\n",
       "      <td>2</td>\n",
       "    </tr>\n",
       "    <tr>\n",
       "      <th>3</th>\n",
       "      <td>Dr</td>\n",
       "      <td>3</td>\n",
       "    </tr>\n",
       "    <tr>\n",
       "      <th>4</th>\n",
       "      <td>Jonkheer</td>\n",
       "      <td>4</td>\n",
       "    </tr>\n",
       "    <tr>\n",
       "      <th>5</th>\n",
       "      <td>Lady</td>\n",
       "      <td>5</td>\n",
       "    </tr>\n",
       "    <tr>\n",
       "      <th>6</th>\n",
       "      <td>Major</td>\n",
       "      <td>6</td>\n",
       "    </tr>\n",
       "    <tr>\n",
       "      <th>7</th>\n",
       "      <td>Master</td>\n",
       "      <td>7</td>\n",
       "    </tr>\n",
       "    <tr>\n",
       "      <th>8</th>\n",
       "      <td>Miss</td>\n",
       "      <td>8</td>\n",
       "    </tr>\n",
       "    <tr>\n",
       "      <th>9</th>\n",
       "      <td>Mlle</td>\n",
       "      <td>9</td>\n",
       "    </tr>\n",
       "    <tr>\n",
       "      <th>10</th>\n",
       "      <td>Mme</td>\n",
       "      <td>10</td>\n",
       "    </tr>\n",
       "    <tr>\n",
       "      <th>11</th>\n",
       "      <td>Mr</td>\n",
       "      <td>11</td>\n",
       "    </tr>\n",
       "    <tr>\n",
       "      <th>12</th>\n",
       "      <td>Mrs</td>\n",
       "      <td>12</td>\n",
       "    </tr>\n",
       "    <tr>\n",
       "      <th>13</th>\n",
       "      <td>Ms</td>\n",
       "      <td>13</td>\n",
       "    </tr>\n",
       "    <tr>\n",
       "      <th>14</th>\n",
       "      <td>Rev</td>\n",
       "      <td>14</td>\n",
       "    </tr>\n",
       "    <tr>\n",
       "      <th>15</th>\n",
       "      <td>Sir</td>\n",
       "      <td>15</td>\n",
       "    </tr>\n",
       "    <tr>\n",
       "      <th>16</th>\n",
       "      <td>the Countess</td>\n",
       "      <td>16</td>\n",
       "    </tr>\n",
       "  </tbody>\n",
       "</table>\n",
       "</div>"
      ],
      "text/plain": [
       "           Title  Encoded\n",
       "0           Capt        0\n",
       "1            Col        1\n",
       "2            Don        2\n",
       "3             Dr        3\n",
       "4       Jonkheer        4\n",
       "5           Lady        5\n",
       "6          Major        6\n",
       "7         Master        7\n",
       "8           Miss        8\n",
       "9           Mlle        9\n",
       "10           Mme       10\n",
       "11            Mr       11\n",
       "12           Mrs       12\n",
       "13            Ms       13\n",
       "14           Rev       14\n",
       "15           Sir       15\n",
       "16  the Countess       16"
      ]
     },
     "execution_count": 12,
     "metadata": {},
     "output_type": "execute_result"
    }
   ],
   "source": [
    "# Extraction titre\n",
    "train['Title'] = train['Name'].str.extract(r',\\s*([^\\.]*)\\s*\\.', expand=False)\n",
    "train['Title'] = train['Title'].str.strip()\n",
    "# Verification des entrées concernées\n",
    "train[train['Age'].isnull()].groupby(['Title', 'Pclass', 'Sex', 'Parch']).size()\n",
    "# Conversion données NULL \n",
    "age_medians = train.groupby(['Title', 'Pclass'])['Age'].median()\n",
    "# Fonction pour imputer/remplacer les âges manquants en fonction des catégories concernées\n",
    "def impute_age(row):\n",
    "    if pd.isnull(row['Age']):\n",
    "        return age_medians.get((row['Title'], row['Pclass']), train['Age'].median())\n",
    "    return row['Age']\n",
    "# Application des changements à la table\n",
    "train['Age'] = train.apply(impute_age, axis=1)\n",
    "# Conversion du type de données de la colonne 'Sex' en valeurs numériques\n",
    "from sklearn.preprocessing import LabelEncoder\n",
    "le = LabelEncoder()\n",
    "train['Sex'] = le.fit_transform(train['Sex'])\n",
    "\n",
    "# Conversion du type de données de la colonne 'Title' & création d'une table de correspondance pour comprendre les modifications\n",
    "train['Title'] = le.fit_transform(train['Title'])\n",
    "title_mapping = pd.DataFrame({\n",
    "    'Title': le.classes_,\n",
    "    'Encoded': le.transform(le.classes_)\n",
    "})\n",
    "title_mapping.sort_values('Encoded')"
   ]
  },
  {
   "cell_type": "markdown",
   "id": "07796d05",
   "metadata": {},
   "source": [
    "MODELE 2 - Random Forest "
   ]
  },
  {
   "cell_type": "markdown",
   "id": "eee4dcdc",
   "metadata": {},
   "source": [
    "Sélection des features (X) et de la target (y)"
   ]
  },
  {
   "cell_type": "code",
   "execution_count": 13,
   "id": "55d5c5cb",
   "metadata": {},
   "outputs": [],
   "source": [
    "features = ['Age', 'Sex', 'Pclass', 'Title']\n",
    "X = train[features]\n",
    "\n",
    "y = train['Survived']"
   ]
  },
  {
   "cell_type": "markdown",
   "id": "b8bf75d3",
   "metadata": {},
   "source": [
    "Séparation des données d'entraînement et de test"
   ]
  },
  {
   "cell_type": "code",
   "execution_count": 14,
   "id": "9bddd1fa",
   "metadata": {},
   "outputs": [],
   "source": [
    "X_train, X_test, y_train, y_test = train_test_split(X, y, test_size=0.2, random_state=1)"
   ]
  },
  {
   "cell_type": "markdown",
   "id": "8b3bfd60",
   "metadata": {},
   "source": [
    "Entraînement du modèle Random Forest"
   ]
  },
  {
   "cell_type": "code",
   "execution_count": 15,
   "id": "e32314ad",
   "metadata": {},
   "outputs": [],
   "source": [
    "model = RandomForestClassifier(\n",
    "    n_estimators=100,\n",
    "    max_depth=None,\n",
    "    random_state=1\n",
    ")\n",
    "\n",
    "model.fit(X_train, y_train)\n",
    "\n",
    "y_pred = model.predict(X_test)"
   ]
  },
  {
   "cell_type": "markdown",
   "id": "4b718a2e",
   "metadata": {},
   "source": [
    "Evaluation"
   ]
  },
  {
   "cell_type": "code",
   "execution_count": 16,
   "id": "cf90da23",
   "metadata": {},
   "outputs": [
    {
     "name": "stdout",
     "output_type": "stream",
     "text": [
      "Accuracy :  0.7653631284916201\n",
      "Matrice de confusion :  [[87 19]\n",
      " [23 50]]\n",
      "Rapport de classification :                precision    recall  f1-score   support\n",
      "\n",
      "           0       0.79      0.82      0.81       106\n",
      "           1       0.72      0.68      0.70        73\n",
      "\n",
      "    accuracy                           0.77       179\n",
      "   macro avg       0.76      0.75      0.75       179\n",
      "weighted avg       0.76      0.77      0.76       179\n",
      "\n"
     ]
    }
   ],
   "source": [
    "print('Accuracy : ', accuracy_score(y_test, y_pred)) # Précision\n",
    "print('Matrice de confusion : ',confusion_matrix(y_test, y_pred)) # Croisement entre les vraies données et celles prédites\n",
    "print('Rapport de classification : ', classification_report(y_test, y_pred))"
   ]
  },
  {
   "cell_type": "markdown",
   "id": "0205d658",
   "metadata": {},
   "source": [
    "Amélioration du modèle </br>\n",
    "=> Recherche de nouveaux hyperparamètres pour le modèle Random Forest\n",
    "=> Utilisation de la technique de cross-validation pour trouver des paramètres adéquates"
   ]
  },
  {
   "cell_type": "code",
   "execution_count": 17,
   "id": "ebef1813",
   "metadata": {},
   "outputs": [
    {
     "name": "stdout",
     "output_type": "stream",
     "text": [
      "Meilleurs paramètres :  {'max_depth': 5, 'min_samples_split': 2, 'n_estimators': 100}\n",
      "Score CV :  0.8173840244262779\n"
     ]
    }
   ],
   "source": [
    "from sklearn.model_selection import GridSearchCV\n",
    "\n",
    "param_grid = {\n",
    "    'n_estimators': [100, 200, 300], #nb d'arbres dans la forêt\n",
    "    'max_depth': [None, 5, 10], # profondeur max des arbres\n",
    "    'min_samples_split': [2, 4, 10] # nb mini. d'échantillons requis pour diviser un noeud\n",
    "}\n",
    "\n",
    "grid = GridSearchCV(RandomForestClassifier(),\n",
    "                    param_grid, #appel du dictionnaire avec les paramètres à tester\n",
    "                    cv=5, # validation croisée à 5 plis (division du dataset en 5 parties, 4 d'entrainement, 1 de test)\n",
    "                    scoring='accuracy')\n",
    "\n",
    "grid.fit(X_train, y_train) \n",
    "\n",
    "print('Meilleurs paramètres : ', grid.best_params_)\n",
    "print('Score CV : ', grid.best_score_)\n"
   ]
  },
  {
   "cell_type": "markdown",
   "id": "cb087427",
   "metadata": {},
   "source": [
    "Résumé </br>\n",
    "Nombre d'arbres : 100 </br>\n",
    "La profondeur max. des arbres (max_depth) : 5 </br>\n",
    "Nombre d'échantillons requis pour la division des noeuds : 2 </br>\n"
   ]
  },
  {
   "cell_type": "markdown",
   "id": "e3e69470",
   "metadata": {},
   "source": [
    "Test des nouveaux hyper paramètres"
   ]
  },
  {
   "cell_type": "code",
   "execution_count": 20,
   "id": "dc95a9ca",
   "metadata": {},
   "outputs": [
    {
     "name": "stdout",
     "output_type": "stream",
     "text": [
      "Accuracy :  0.7597765363128491\n",
      "Matrice de confusion :  [[93 13]\n",
      " [30 43]]\n",
      "Rapport de classification :                precision    recall  f1-score   support\n",
      "\n",
      "           0       0.76      0.88      0.81       106\n",
      "           1       0.77      0.59      0.67        73\n",
      "\n",
      "    accuracy                           0.76       179\n",
      "   macro avg       0.76      0.73      0.74       179\n",
      "weighted avg       0.76      0.76      0.75       179\n",
      "\n"
     ]
    }
   ],
   "source": [
    "model_opti = RandomForestClassifier(\n",
    "    n_estimators= 100,\n",
    "    max_depth= 5,\n",
    "    min_samples_split=2,\n",
    "    random_state=1,\n",
    ")\n",
    "\n",
    "model_opti.fit(X_train, y_train)\n",
    "\n",
    "y_pred_opti = model_opti.predict(X_test)\n",
    "\n",
    "print('Accuracy : ', accuracy_score(y_test, y_pred_opti)) # Précision\n",
    "print('Matrice de confusion : ',confusion_matrix(y_test, y_pred_opti)) # Croisement entre les vraies données et celles prédites\n",
    "print('Rapport de classification : ', classification_report(y_test, y_pred_opti))"
   ]
  },
  {
   "cell_type": "markdown",
   "id": "05fcfd66",
   "metadata": {},
   "source": [
    "Ca a diminué le score... "
   ]
  }
 ],
 "metadata": {
  "kernelspec": {
   "display_name": ".venv",
   "language": "python",
   "name": "python3"
  },
  "language_info": {
   "codemirror_mode": {
    "name": "ipython",
    "version": 3
   },
   "file_extension": ".py",
   "mimetype": "text/x-python",
   "name": "python",
   "nbconvert_exporter": "python",
   "pygments_lexer": "ipython3",
   "version": "3.12.3"
  }
 },
 "nbformat": 4,
 "nbformat_minor": 5
}
