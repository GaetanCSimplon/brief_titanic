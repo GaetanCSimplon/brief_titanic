{
 "cells": [
  {
   "cell_type": "markdown",
   "id": "151ea4a7",
   "metadata": {},
   "source": [
    "ENTRAINEMENT DU MODELE DE FORET ALEATOIRE (RANDOM FOREST)"
   ]
  },
  {
   "cell_type": "markdown",
   "id": "884027e3",
   "metadata": {},
   "source": [
    "Importation des librairies"
   ]
  },
  {
   "cell_type": "code",
   "execution_count": 1,
   "id": "031e75fc",
   "metadata": {},
   "outputs": [],
   "source": [
    "import pandas as pd\n",
    "import matplotlib.pyplot as plt\n",
    "import plotly_express as px\n",
    "import numpy as nu\n",
    "from sklearn.model_selection import train_test_split # Pour le split train/test\n",
    "from sklearn.ensemble import RandomForestClassifier # Modèle sélectionné (catégorisation/regression)\n",
    "\n",
    "train = pd.read_csv('data/train.csv')"
   ]
  },
  {
   "cell_type": "markdown",
   "id": "a99eab52",
   "metadata": {},
   "source": [
    "Nettoyage des données"
   ]
  },
  {
   "cell_type": "code",
   "execution_count": 17,
   "id": "5687c503",
   "metadata": {},
   "outputs": [
    {
     "data": {
      "application/vnd.microsoft.datawrangler.viewer.v0+json": {
       "columns": [
        {
         "name": "index",
         "rawType": "int64",
         "type": "integer"
        },
        {
         "name": "Title",
         "rawType": "object",
         "type": "string"
        },
        {
         "name": "Encoded",
         "rawType": "int64",
         "type": "integer"
        }
       ],
       "ref": "6c46c0a9-0b27-45a3-b533-54abefc850bf",
       "rows": [
        [
         "0",
         "Capt",
         "0"
        ],
        [
         "1",
         "Col",
         "1"
        ],
        [
         "2",
         "Don",
         "2"
        ],
        [
         "3",
         "Dr",
         "3"
        ],
        [
         "4",
         "Jonkheer",
         "4"
        ],
        [
         "5",
         "Lady",
         "5"
        ],
        [
         "6",
         "Major",
         "6"
        ],
        [
         "7",
         "Master",
         "7"
        ],
        [
         "8",
         "Miss",
         "8"
        ],
        [
         "9",
         "Mlle",
         "9"
        ],
        [
         "10",
         "Mme",
         "10"
        ],
        [
         "11",
         "Mr",
         "11"
        ],
        [
         "12",
         "Mrs",
         "12"
        ],
        [
         "13",
         "Ms",
         "13"
        ],
        [
         "14",
         "Rev",
         "14"
        ],
        [
         "15",
         "Sir",
         "15"
        ],
        [
         "16",
         "the Countess",
         "16"
        ]
       ],
       "shape": {
        "columns": 2,
        "rows": 17
       }
      },
      "text/html": [
       "<div>\n",
       "<style scoped>\n",
       "    .dataframe tbody tr th:only-of-type {\n",
       "        vertical-align: middle;\n",
       "    }\n",
       "\n",
       "    .dataframe tbody tr th {\n",
       "        vertical-align: top;\n",
       "    }\n",
       "\n",
       "    .dataframe thead th {\n",
       "        text-align: right;\n",
       "    }\n",
       "</style>\n",
       "<table border=\"1\" class=\"dataframe\">\n",
       "  <thead>\n",
       "    <tr style=\"text-align: right;\">\n",
       "      <th></th>\n",
       "      <th>Title</th>\n",
       "      <th>Encoded</th>\n",
       "    </tr>\n",
       "  </thead>\n",
       "  <tbody>\n",
       "    <tr>\n",
       "      <th>0</th>\n",
       "      <td>Capt</td>\n",
       "      <td>0</td>\n",
       "    </tr>\n",
       "    <tr>\n",
       "      <th>1</th>\n",
       "      <td>Col</td>\n",
       "      <td>1</td>\n",
       "    </tr>\n",
       "    <tr>\n",
       "      <th>2</th>\n",
       "      <td>Don</td>\n",
       "      <td>2</td>\n",
       "    </tr>\n",
       "    <tr>\n",
       "      <th>3</th>\n",
       "      <td>Dr</td>\n",
       "      <td>3</td>\n",
       "    </tr>\n",
       "    <tr>\n",
       "      <th>4</th>\n",
       "      <td>Jonkheer</td>\n",
       "      <td>4</td>\n",
       "    </tr>\n",
       "    <tr>\n",
       "      <th>5</th>\n",
       "      <td>Lady</td>\n",
       "      <td>5</td>\n",
       "    </tr>\n",
       "    <tr>\n",
       "      <th>6</th>\n",
       "      <td>Major</td>\n",
       "      <td>6</td>\n",
       "    </tr>\n",
       "    <tr>\n",
       "      <th>7</th>\n",
       "      <td>Master</td>\n",
       "      <td>7</td>\n",
       "    </tr>\n",
       "    <tr>\n",
       "      <th>8</th>\n",
       "      <td>Miss</td>\n",
       "      <td>8</td>\n",
       "    </tr>\n",
       "    <tr>\n",
       "      <th>9</th>\n",
       "      <td>Mlle</td>\n",
       "      <td>9</td>\n",
       "    </tr>\n",
       "    <tr>\n",
       "      <th>10</th>\n",
       "      <td>Mme</td>\n",
       "      <td>10</td>\n",
       "    </tr>\n",
       "    <tr>\n",
       "      <th>11</th>\n",
       "      <td>Mr</td>\n",
       "      <td>11</td>\n",
       "    </tr>\n",
       "    <tr>\n",
       "      <th>12</th>\n",
       "      <td>Mrs</td>\n",
       "      <td>12</td>\n",
       "    </tr>\n",
       "    <tr>\n",
       "      <th>13</th>\n",
       "      <td>Ms</td>\n",
       "      <td>13</td>\n",
       "    </tr>\n",
       "    <tr>\n",
       "      <th>14</th>\n",
       "      <td>Rev</td>\n",
       "      <td>14</td>\n",
       "    </tr>\n",
       "    <tr>\n",
       "      <th>15</th>\n",
       "      <td>Sir</td>\n",
       "      <td>15</td>\n",
       "    </tr>\n",
       "    <tr>\n",
       "      <th>16</th>\n",
       "      <td>the Countess</td>\n",
       "      <td>16</td>\n",
       "    </tr>\n",
       "  </tbody>\n",
       "</table>\n",
       "</div>"
      ],
      "text/plain": [
       "           Title  Encoded\n",
       "0           Capt        0\n",
       "1            Col        1\n",
       "2            Don        2\n",
       "3             Dr        3\n",
       "4       Jonkheer        4\n",
       "5           Lady        5\n",
       "6          Major        6\n",
       "7         Master        7\n",
       "8           Miss        8\n",
       "9           Mlle        9\n",
       "10           Mme       10\n",
       "11            Mr       11\n",
       "12           Mrs       12\n",
       "13            Ms       13\n",
       "14           Rev       14\n",
       "15           Sir       15\n",
       "16  the Countess       16"
      ]
     },
     "execution_count": 17,
     "metadata": {},
     "output_type": "execute_result"
    }
   ],
   "source": [
    "# Extraction titre\n",
    "train['Title'] = train['Name'].str.extract(r',\\s*([^\\.]*)\\s*\\.', expand=False)\n",
    "train['Title'] = train['Title'].str.strip()\n",
    "# Verification des entrées concernées\n",
    "train[train['Age'].isnull()].groupby(['Title', 'Pclass', 'Sex', 'Parch']).size()\n",
    "# Conversion données NULL \n",
    "age_medians = train.groupby(['Title', 'Pclass'])['Age'].median()\n",
    "# Fonction pour imputer/remplacer les âges manquants en fonction des catégories concernées\n",
    "def impute_age(row):\n",
    "    if pd.isnull(row['Age']):\n",
    "        return age_medians.get((row['Title'], row['Pclass']), train['Age'].median())\n",
    "    return row['Age']\n",
    "# Application des changements à la table\n",
    "train['Age'] = train.apply(impute_age, axis=1)\n",
    "# Conversion du type de données de la colonne 'Sex' en valeurs numériques\n",
    "from sklearn.preprocessing import LabelEncoder\n",
    "le = LabelEncoder()\n",
    "train['Sex'] = le.fit_transform(train['Sex'])\n",
    "\n",
    "# Conversion du type de données de la colonne 'Title' & création d'une table de correspondance pour comprendre les modifications\n",
    "train['Title'] = le.fit_transform(train['Title'])\n",
    "title_mapping = pd.DataFrame({\n",
    "    'Title': le.classes_,\n",
    "    'Encoded': le.transform(le.classes_)\n",
    "})\n",
    "title_mapping.sort_values('Encoded')"
   ]
  },
  {
   "cell_type": "markdown",
   "id": "07796d05",
   "metadata": {},
   "source": [
    "MODELE 2 - Random Forest "
   ]
  },
  {
   "cell_type": "markdown",
   "id": "eee4dcdc",
   "metadata": {},
   "source": [
    "Sélection des features (X) et de la target (y)"
   ]
  },
  {
   "cell_type": "code",
   "execution_count": 18,
   "id": "55d5c5cb",
   "metadata": {},
   "outputs": [],
   "source": [
    "features = ['Age', 'Sex', 'Pclass', 'Title']\n",
    "X = train[features]\n",
    "\n",
    "y = train['Survived']"
   ]
  }
 ],
 "metadata": {
  "kernelspec": {
   "display_name": ".venv",
   "language": "python",
   "name": "python3"
  },
  "language_info": {
   "codemirror_mode": {
    "name": "ipython",
    "version": 3
   },
   "file_extension": ".py",
   "mimetype": "text/x-python",
   "name": "python",
   "nbconvert_exporter": "python",
   "pygments_lexer": "ipython3",
   "version": "3.12.3"
  }
 },
 "nbformat": 4,
 "nbformat_minor": 5
}
