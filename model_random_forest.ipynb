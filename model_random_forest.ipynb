{
 "cells": [
  {
   "cell_type": "markdown",
   "id": "151ea4a7",
   "metadata": {},
   "source": [
    "ENTRAINEMENT DU MODELE DE FORET ALEATOIRE (RANDOM FOREST)"
   ]
  },
  {
   "cell_type": "markdown",
   "id": "884027e3",
   "metadata": {},
   "source": [
    "Importation des librairies"
   ]
  },
  {
   "cell_type": "code",
   "execution_count": 1,
   "id": "031e75fc",
   "metadata": {},
   "outputs": [],
   "source": [
    "import pandas as pd\n",
    "import matplotlib.pyplot as plt\n",
    "import plotly_express as px\n",
    "import numpy as nu\n",
    "from sklearn.model_selection import train_test_split # Pour le split train/test\n",
    "from sklearn.ensemble import RandomForestClassifier # Modèle sélectionné (catégorisation/regression)\n",
    "\n",
    "train = pd.read_csv('data/train.csv')"
   ]
  },
  {
   "cell_type": "markdown",
   "id": "a99eab52",
   "metadata": {},
   "source": [
    "Nettoyage des données"
   ]
  },
  {
   "cell_type": "code",
   "execution_count": 10,
   "id": "5687c503",
   "metadata": {},
   "outputs": [
    {
     "name": "stdout",
     "output_type": "stream",
     "text": [
      "0      11\n",
      "1      12\n",
      "2       8\n",
      "3      12\n",
      "4      11\n",
      "       ..\n",
      "886    14\n",
      "887     8\n",
      "888     8\n",
      "889    11\n",
      "890    11\n",
      "Name: Title, Length: 891, dtype: int64\n"
     ]
    }
   ],
   "source": [
    "# Extraction titre\n",
    "train['Title'] = train['Name'].str.extract(r',\\s*([^\\.]*)\\s*\\.', expand=False)\n",
    "train['Title'] = train['Title'].str.strip()\n",
    "# Verification des entrées concernées\n",
    "train[train['Age'].isnull()].groupby(['Title', 'Pclass', 'Sex', 'Parch']).size()\n",
    "# Conversion données NULL \n",
    "age_medians = train.groupby(['Title', 'Pclass'])['Age'].median()\n",
    "# Fonction pour imputer/remplacer les âges manquants en fonction des catégories concernées\n",
    "def impute_age(row):\n",
    "    if pd.isnull(row['Age']):\n",
    "        return age_medians.get((row['Title'], row['Pclass']), train['Age'].median())\n",
    "    return row['Age']\n",
    "# Application des changements à la table\n",
    "train['Age'] = train.apply(impute_age, axis=1)\n",
    "# Conversion du type de données de la colonne 'Sex' en valeurs numériques\n",
    "from sklearn.preprocessing import LabelEncoder\n",
    "le = LabelEncoder()\n",
    "train['Sex'] = le.fit_transform(train['Sex'])\n",
    "train['Title'] = le.fit_transform(train['Title'])\n",
    "print(train['Title'])"
   ]
  },
  {
   "cell_type": "markdown",
   "id": "07796d05",
   "metadata": {},
   "source": [
    "MODELE 2 - Random Forest "
   ]
  },
  {
   "cell_type": "markdown",
   "id": "eee4dcdc",
   "metadata": {},
   "source": [
    "Sélection des features (X) et de la target (y)"
   ]
  },
  {
   "cell_type": "code",
   "execution_count": 7,
   "id": "55d5c5cb",
   "metadata": {},
   "outputs": [],
   "source": [
    "features = ['Age', 'Sex', 'Pclass', 'Title']\n",
    "X = train[features]\n",
    "\n",
    "y = train['Survived']"
   ]
  }
 ],
 "metadata": {
  "kernelspec": {
   "display_name": ".venv",
   "language": "python",
   "name": "python3"
  },
  "language_info": {
   "codemirror_mode": {
    "name": "ipython",
    "version": 3
   },
   "file_extension": ".py",
   "mimetype": "text/x-python",
   "name": "python",
   "nbconvert_exporter": "python",
   "pygments_lexer": "ipython3",
   "version": "3.12.3"
  }
 },
 "nbformat": 4,
 "nbformat_minor": 5
}
