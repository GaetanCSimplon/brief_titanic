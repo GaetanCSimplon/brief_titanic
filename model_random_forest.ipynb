{
 "cells": [
  {
   "cell_type": "markdown",
   "id": "151ea4a7",
   "metadata": {},
   "source": [
    "ENTRAINEMENT DU MODELE DE FORET ALEATOIRE (RANDOM FOREST)"
   ]
  },
  {
   "cell_type": "markdown",
   "id": "884027e3",
   "metadata": {},
   "source": [
    "Importation des librairies"
   ]
  },
  {
   "cell_type": "code",
   "execution_count": 1,
   "id": "031e75fc",
   "metadata": {},
   "outputs": [],
   "source": [
    "import pandas as pd\n",
    "import matplotlib.pyplot as plt\n",
    "import plotly.express as px\n",
    "import numpy as nu\n",
    "from sklearn.model_selection import train_test_split # Pour le split train/test\n",
    "from sklearn.ensemble import RandomForestClassifier # Modèle sélectionné (catégorisation/regression)\n",
    "from sklearn.metrics import accuracy_score, confusion_matrix, classification_report # Evaluation des résultats\n",
    "\n",
    "train = pd.read_csv('data/train.csv')\n",
    "test = pd.read_csv('data/test.csv')"
   ]
  },
  {
   "cell_type": "markdown",
   "id": "a99eab52",
   "metadata": {},
   "source": [
    "Exploration des données"
   ]
  },
  {
   "cell_type": "markdown",
   "id": "f76ca1de",
   "metadata": {},
   "source": [
    "Fusion des jeux de données"
   ]
  },
  {
   "cell_type": "code",
   "execution_count": 2,
   "id": "c39c2504",
   "metadata": {},
   "outputs": [],
   "source": [
    "test['Survived'] = None\n",
    "full = pd.concat([train, test], sort=False)\n"
   ]
  },
  {
   "cell_type": "markdown",
   "id": "b1ec7ee0",
   "metadata": {},
   "source": [
    "Nettoyage des données"
   ]
  },
  {
   "cell_type": "code",
   "execution_count": 3,
   "id": "5687c503",
   "metadata": {},
   "outputs": [],
   "source": [
    "# # Extraction titre\n",
    "# train['Title'] = train['Name'].str.extract(r',\\s*([^\\.]*)\\s*\\.', expand=False)\n",
    "# train['Title'] = train['Title'].str.strip()\n",
    "# # Verification des entrées concernées\n",
    "# train[train['Age'].isnull()].groupby(['Title', 'Pclass', 'Sex', 'Parch']).size()\n",
    "# # Conversion données NULL \n",
    "# age_medians = train.groupby(['Title', 'Pclass'])['Age'].median()\n",
    "# # Fonction pour imputer/remplacer les âges manquants en fonction des catégories concernées\n",
    "# def impute_age(row):\n",
    "#     if pd.isnull(row['Age']):\n",
    "#         return age_medians.get((row['Title'], row['Pclass']), train['Age'].median())\n",
    "#     return row['Age']\n",
    "# # Application des changements à la table\n",
    "# train['Age'] = train.apply(impute_age, axis=1)\n",
    "# # Conversion du type de données de la colonne 'Sex' en valeurs numériques\n",
    "# from sklearn.preprocessing import LabelEncoder\n",
    "# le = LabelEncoder()\n",
    "# train['Sex'] = le.fit_transform(train['Sex'])\n",
    "\n",
    "# # Conversion du type de données de la colonne 'Title' & création d'une table de correspondance pour comprendre les modifications\n",
    "# train['Title'] = le.fit_transform(train['Title'])\n",
    "# title_mapping = pd.DataFrame({\n",
    "#     'Title': le.classes_,\n",
    "#     'Encoded': le.transform(le.classes_)\n",
    "# })\n",
    "# title_mapping.sort_values('Encoded')"
   ]
  },
  {
   "cell_type": "code",
   "execution_count": 4,
   "id": "f18f2cd9",
   "metadata": {},
   "outputs": [],
   "source": [
    "# Extraction titre\n",
    "full['Title'] = full['Name'].str.extract(r',\\s*([^\\.]*)\\s*\\.', expand=False)\n",
    "full['Title'] = full['Title'].str.strip()\n",
    "# Verification des entrées concernées\n",
    "full[full['Age'].isnull()].groupby(['Title', 'Pclass', 'Sex', 'Parch']).size()\n",
    "# Conversion données NULL \n",
    "age_medians = full.groupby(['Title', 'Pclass'])['Age'].median()\n",
    "# Fonction pour imputer/remplacer les âges manquants en fonction des catégories concernées\n",
    "def impute_age(row):\n",
    "    if pd.isnull(row['Age']):\n",
    "        return age_medians.get((row['Title'], row['Pclass']), full['Age'].median())\n",
    "    return row['Age']\n",
    "# Application des changements à la table\n",
    "full['Age'] = full.apply(impute_age, axis=1)\n",
    "# Conversion du type de données de la colonne 'Sex' en valeurs numériques\n",
    "from sklearn.preprocessing import LabelEncoder\n",
    "le = LabelEncoder()\n",
    "full['Sex'] = le.fit_transform(full['Sex'])\n",
    "\n",
    "# Conversion du type de données de la colonne 'Title' & création d'une table de correspondance pour comprendre les modifications\n",
    "full['Title'] = le.fit_transform(full['Title'])\n",
    "title_mapping = pd.DataFrame({\n",
    "    'Title': le.classes_,\n",
    "    'Encoded': le.transform(le.classes_)\n",
    "})\n",
    "title_mapping.sort_values('Encoded')\n",
    "\n",
    "# Conversion du type de données de la colonne 'Embarked'\n",
    "full['Embarked'] = LabelEncoder().fit_transform(full['Embarked'])\n",
    "\n",
    "# Traitement des colonnes 'Embarked' et 'Fare'\n",
    "full['Fare'] = full['Fare'].fillna(full['Fare'].median())\n",
    "full['Embarked'] = full['Embarked'].fillna(full['Embarked'].mode()[0])\n",
    "\n",
    "\n"
   ]
  },
  {
   "cell_type": "markdown",
   "id": "07796d05",
   "metadata": {},
   "source": [
    "MODELE 2 - Random Forest "
   ]
  },
  {
   "cell_type": "code",
   "execution_count": 5,
   "id": "96d31a80",
   "metadata": {},
   "outputs": [],
   "source": [
    "train_cleaned = full[full['Survived'].notnull()]\n",
    "test_cleaned = full[full['Survived'].isnull()]"
   ]
  },
  {
   "cell_type": "markdown",
   "id": "eee4dcdc",
   "metadata": {},
   "source": [
    "Sélection des features (X) et de la target (y)"
   ]
  },
  {
   "cell_type": "code",
   "execution_count": 6,
   "id": "55d5c5cb",
   "metadata": {},
   "outputs": [],
   "source": [
    "features = ['Age', 'Sex', 'Pclass', 'Title', 'Parch', 'Fare', 'SibSp']\n",
    "X = train_cleaned[features]\n",
    "\n",
    "y = train_cleaned['Survived'].astype(int)"
   ]
  },
  {
   "cell_type": "markdown",
   "id": "b8bf75d3",
   "metadata": {},
   "source": [
    "Séparation des données d'entraînement et de test"
   ]
  },
  {
   "cell_type": "code",
   "execution_count": 7,
   "id": "9bddd1fa",
   "metadata": {},
   "outputs": [],
   "source": [
    "X_train, X_test, y_train, y_test = train_test_split(X, y, test_size=0.2, random_state=1)"
   ]
  },
  {
   "cell_type": "markdown",
   "id": "8b3bfd60",
   "metadata": {},
   "source": [
    "Entraînement du modèle Random Forest"
   ]
  },
  {
   "cell_type": "code",
   "execution_count": 8,
   "id": "e32314ad",
   "metadata": {},
   "outputs": [],
   "source": [
    "model = RandomForestClassifier(\n",
    "    n_estimators=100,\n",
    "    max_depth=None,\n",
    "    random_state=1\n",
    ")\n",
    "\n",
    "model.fit(X_train, y_train)\n",
    "\n",
    "y_pred = model.predict(X_test)"
   ]
  },
  {
   "cell_type": "markdown",
   "id": "6734ecaa",
   "metadata": {},
   "source": [
    "Prédiction des résultats sur test_cleaned"
   ]
  },
  {
   "cell_type": "code",
   "execution_count": 10,
   "id": "a46ea636",
   "metadata": {},
   "outputs": [],
   "source": [
    "X_test_final = test_cleaned[features]\n",
    "y_pred_final = model.predict(X_test_final)"
   ]
  },
  {
   "cell_type": "markdown",
   "id": "4b718a2e",
   "metadata": {},
   "source": [
    "Evaluation"
   ]
  },
  {
   "cell_type": "code",
   "execution_count": 11,
   "id": "cf90da23",
   "metadata": {},
   "outputs": [
    {
     "ename": "ValueError",
     "evalue": "Found input variables with inconsistent numbers of samples: [179, 418]",
     "output_type": "error",
     "traceback": [
      "\u001b[31m---------------------------------------------------------------------------\u001b[39m",
      "\u001b[31mValueError\u001b[39m                                Traceback (most recent call last)",
      "\u001b[36mCell\u001b[39m\u001b[36m \u001b[39m\u001b[32mIn[11]\u001b[39m\u001b[32m, line 1\u001b[39m\n\u001b[32m----> \u001b[39m\u001b[32m1\u001b[39m \u001b[38;5;28mprint\u001b[39m(\u001b[33m'\u001b[39m\u001b[33mAccuracy : \u001b[39m\u001b[33m'\u001b[39m, \u001b[43maccuracy_score\u001b[49m\u001b[43m(\u001b[49m\u001b[43my_test\u001b[49m\u001b[43m,\u001b[49m\u001b[43m \u001b[49m\u001b[43my_pred_final\u001b[49m\u001b[43m)\u001b[49m) \u001b[38;5;66;03m# Précision\u001b[39;00m\n\u001b[32m      2\u001b[39m \u001b[38;5;28mprint\u001b[39m(\u001b[33m'\u001b[39m\u001b[33mMatrice de confusion : \u001b[39m\u001b[33m'\u001b[39m,confusion_matrix(y_test, y_pred_final)) \u001b[38;5;66;03m# Croisement entre les vraies données et celles prédites\u001b[39;00m\n\u001b[32m      3\u001b[39m \u001b[38;5;28mprint\u001b[39m(\u001b[33m'\u001b[39m\u001b[33mRapport de classification : \u001b[39m\u001b[33m'\u001b[39m, classification_report(y_test, y_pred_final))\n",
      "\u001b[36mFile \u001b[39m\u001b[32m~/brief_titanic/.venv/lib/python3.12/site-packages/sklearn/utils/_param_validation.py:218\u001b[39m, in \u001b[36mvalidate_params.<locals>.decorator.<locals>.wrapper\u001b[39m\u001b[34m(*args, **kwargs)\u001b[39m\n\u001b[32m    212\u001b[39m \u001b[38;5;28;01mtry\u001b[39;00m:\n\u001b[32m    213\u001b[39m     \u001b[38;5;28;01mwith\u001b[39;00m config_context(\n\u001b[32m    214\u001b[39m         skip_parameter_validation=(\n\u001b[32m    215\u001b[39m             prefer_skip_nested_validation \u001b[38;5;129;01mor\u001b[39;00m global_skip_validation\n\u001b[32m    216\u001b[39m         )\n\u001b[32m    217\u001b[39m     ):\n\u001b[32m--> \u001b[39m\u001b[32m218\u001b[39m         \u001b[38;5;28;01mreturn\u001b[39;00m \u001b[43mfunc\u001b[49m\u001b[43m(\u001b[49m\u001b[43m*\u001b[49m\u001b[43margs\u001b[49m\u001b[43m,\u001b[49m\u001b[43m \u001b[49m\u001b[43m*\u001b[49m\u001b[43m*\u001b[49m\u001b[43mkwargs\u001b[49m\u001b[43m)\u001b[49m\n\u001b[32m    219\u001b[39m \u001b[38;5;28;01mexcept\u001b[39;00m InvalidParameterError \u001b[38;5;28;01mas\u001b[39;00m e:\n\u001b[32m    220\u001b[39m     \u001b[38;5;66;03m# When the function is just a wrapper around an estimator, we allow\u001b[39;00m\n\u001b[32m    221\u001b[39m     \u001b[38;5;66;03m# the function to delegate validation to the estimator, but we replace\u001b[39;00m\n\u001b[32m    222\u001b[39m     \u001b[38;5;66;03m# the name of the estimator by the name of the function in the error\u001b[39;00m\n\u001b[32m    223\u001b[39m     \u001b[38;5;66;03m# message to avoid confusion.\u001b[39;00m\n\u001b[32m    224\u001b[39m     msg = re.sub(\n\u001b[32m    225\u001b[39m         \u001b[33mr\u001b[39m\u001b[33m\"\u001b[39m\u001b[33mparameter of \u001b[39m\u001b[33m\\\u001b[39m\u001b[33mw+ must be\u001b[39m\u001b[33m\"\u001b[39m,\n\u001b[32m    226\u001b[39m         \u001b[33mf\u001b[39m\u001b[33m\"\u001b[39m\u001b[33mparameter of \u001b[39m\u001b[38;5;132;01m{\u001b[39;00mfunc.\u001b[34m__qualname__\u001b[39m\u001b[38;5;132;01m}\u001b[39;00m\u001b[33m must be\u001b[39m\u001b[33m\"\u001b[39m,\n\u001b[32m    227\u001b[39m         \u001b[38;5;28mstr\u001b[39m(e),\n\u001b[32m    228\u001b[39m     )\n",
      "\u001b[36mFile \u001b[39m\u001b[32m~/brief_titanic/.venv/lib/python3.12/site-packages/sklearn/metrics/_classification.py:359\u001b[39m, in \u001b[36maccuracy_score\u001b[39m\u001b[34m(y_true, y_pred, normalize, sample_weight)\u001b[39m\n\u001b[32m    357\u001b[39m \u001b[38;5;66;03m# Compute accuracy for each possible representation\u001b[39;00m\n\u001b[32m    358\u001b[39m y_true, y_pred = attach_unique(y_true, y_pred)\n\u001b[32m--> \u001b[39m\u001b[32m359\u001b[39m y_type, y_true, y_pred = \u001b[43m_check_targets\u001b[49m\u001b[43m(\u001b[49m\u001b[43my_true\u001b[49m\u001b[43m,\u001b[49m\u001b[43m \u001b[49m\u001b[43my_pred\u001b[49m\u001b[43m)\u001b[49m\n\u001b[32m    360\u001b[39m check_consistent_length(y_true, y_pred, sample_weight)\n\u001b[32m    362\u001b[39m \u001b[38;5;28;01mif\u001b[39;00m y_type.startswith(\u001b[33m\"\u001b[39m\u001b[33mmultilabel\u001b[39m\u001b[33m\"\u001b[39m):\n",
      "\u001b[36mFile \u001b[39m\u001b[32m~/brief_titanic/.venv/lib/python3.12/site-packages/sklearn/metrics/_classification.py:97\u001b[39m, in \u001b[36m_check_targets\u001b[39m\u001b[34m(y_true, y_pred)\u001b[39m\n\u001b[32m     70\u001b[39m \u001b[38;5;250m\u001b[39m\u001b[33;03m\"\"\"Check that y_true and y_pred belong to the same classification task.\u001b[39;00m\n\u001b[32m     71\u001b[39m \n\u001b[32m     72\u001b[39m \u001b[33;03mThis converts multiclass or binary types to a common shape, and raises a\u001b[39;00m\n\u001b[32m   (...)\u001b[39m\u001b[32m     94\u001b[39m \u001b[33;03my_pred : array or indicator matrix\u001b[39;00m\n\u001b[32m     95\u001b[39m \u001b[33;03m\"\"\"\u001b[39;00m\n\u001b[32m     96\u001b[39m xp, _ = get_namespace(y_true, y_pred)\n\u001b[32m---> \u001b[39m\u001b[32m97\u001b[39m \u001b[43mcheck_consistent_length\u001b[49m\u001b[43m(\u001b[49m\u001b[43my_true\u001b[49m\u001b[43m,\u001b[49m\u001b[43m \u001b[49m\u001b[43my_pred\u001b[49m\u001b[43m)\u001b[49m\n\u001b[32m     98\u001b[39m type_true = type_of_target(y_true, input_name=\u001b[33m\"\u001b[39m\u001b[33my_true\u001b[39m\u001b[33m\"\u001b[39m)\n\u001b[32m     99\u001b[39m type_pred = type_of_target(y_pred, input_name=\u001b[33m\"\u001b[39m\u001b[33my_pred\u001b[39m\u001b[33m\"\u001b[39m)\n",
      "\u001b[36mFile \u001b[39m\u001b[32m~/brief_titanic/.venv/lib/python3.12/site-packages/sklearn/utils/validation.py:473\u001b[39m, in \u001b[36mcheck_consistent_length\u001b[39m\u001b[34m(*arrays)\u001b[39m\n\u001b[32m    471\u001b[39m lengths = [_num_samples(X) \u001b[38;5;28;01mfor\u001b[39;00m X \u001b[38;5;129;01min\u001b[39;00m arrays \u001b[38;5;28;01mif\u001b[39;00m X \u001b[38;5;129;01mis\u001b[39;00m \u001b[38;5;129;01mnot\u001b[39;00m \u001b[38;5;28;01mNone\u001b[39;00m]\n\u001b[32m    472\u001b[39m \u001b[38;5;28;01mif\u001b[39;00m \u001b[38;5;28mlen\u001b[39m(\u001b[38;5;28mset\u001b[39m(lengths)) > \u001b[32m1\u001b[39m:\n\u001b[32m--> \u001b[39m\u001b[32m473\u001b[39m     \u001b[38;5;28;01mraise\u001b[39;00m \u001b[38;5;167;01mValueError\u001b[39;00m(\n\u001b[32m    474\u001b[39m         \u001b[33m\"\u001b[39m\u001b[33mFound input variables with inconsistent numbers of samples: \u001b[39m\u001b[38;5;132;01m%r\u001b[39;00m\u001b[33m\"\u001b[39m\n\u001b[32m    475\u001b[39m         % [\u001b[38;5;28mint\u001b[39m(l) \u001b[38;5;28;01mfor\u001b[39;00m l \u001b[38;5;129;01min\u001b[39;00m lengths]\n\u001b[32m    476\u001b[39m     )\n",
      "\u001b[31mValueError\u001b[39m: Found input variables with inconsistent numbers of samples: [179, 418]"
     ]
    }
   ],
   "source": [
    "print('Accuracy : ', accuracy_score(y_test, y_pred_final)) # Précision\n",
    "print('Matrice de confusion : ',confusion_matrix(y_test, y_pred_final)) # Croisement entre les vraies données et celles prédites\n",
    "print('Rapport de classification : ', classification_report(y_test, y_pred_final))"
   ]
  },
  {
   "cell_type": "markdown",
   "id": "0205d658",
   "metadata": {},
   "source": [
    "Amélioration du modèle </br>\n",
    "=> Recherche de nouveaux hyperparamètres pour le modèle Random Forest </br>\n",
    "=> Utilisation de la technique de cross-validation pour trouver des paramètres adéquates"
   ]
  },
  {
   "cell_type": "code",
   "execution_count": null,
   "id": "ebef1813",
   "metadata": {},
   "outputs": [
    {
     "name": "stdout",
     "output_type": "stream",
     "text": [
      "Meilleurs paramètres :  {'max_depth': 5, 'min_samples_split': 2, 'n_estimators': 100}\n",
      "Score CV :  0.8173840244262779\n"
     ]
    }
   ],
   "source": [
    "from sklearn.model_selection import GridSearchCV\n",
    "\n",
    "param_grid = {\n",
    "    'n_estimators': [100, 200, 300], #nb d'arbres dans la forêt\n",
    "    'max_depth': [None, 5, 10], # profondeur max des arbres\n",
    "    'min_samples_split': [2, 4, 10] # nb mini. d'échantillons requis pour diviser un noeud\n",
    "}\n",
    "\n",
    "grid = GridSearchCV(RandomForestClassifier(),\n",
    "                    param_grid, #appel du dictionnaire avec les paramètres à tester\n",
    "                    cv=5, # validation croisée à 5 plis (division du dataset en 5 parties, 4 d'entrainement, 1 de test)\n",
    "                    scoring='accuracy')\n",
    "\n",
    "grid.fit(X_train, y_train) \n",
    "\n",
    "print('Meilleurs paramètres : ', grid.best_params_)\n",
    "print('Score CV : ', grid.best_score_)\n"
   ]
  },
  {
   "cell_type": "markdown",
   "id": "cb087427",
   "metadata": {},
   "source": [
    "Résumé </br>\n",
    "Nombre d'arbres : 100 </br>\n",
    "La profondeur max. des arbres (max_depth) : 5 </br>\n",
    "Nombre d'échantillons requis pour la division des noeuds : 2 </br>\n"
   ]
  },
  {
   "cell_type": "markdown",
   "id": "e3e69470",
   "metadata": {},
   "source": [
    "Test des nouveaux hyper paramètres"
   ]
  },
  {
   "cell_type": "code",
   "execution_count": null,
   "id": "dc95a9ca",
   "metadata": {},
   "outputs": [
    {
     "name": "stdout",
     "output_type": "stream",
     "text": [
      "Accuracy :  0.7597765363128491\n",
      "Matrice de confusion :  [[93 13]\n",
      " [30 43]]\n",
      "Rapport de classification :                precision    recall  f1-score   support\n",
      "\n",
      "           0       0.76      0.88      0.81       106\n",
      "           1       0.77      0.59      0.67        73\n",
      "\n",
      "    accuracy                           0.76       179\n",
      "   macro avg       0.76      0.73      0.74       179\n",
      "weighted avg       0.76      0.76      0.75       179\n",
      "\n"
     ]
    }
   ],
   "source": [
    "model_opti = RandomForestClassifier(\n",
    "    n_estimators= 100,\n",
    "    max_depth= 5,\n",
    "    min_samples_split=2,\n",
    "    random_state=1,\n",
    ")\n",
    "\n",
    "model_opti.fit(X_train, y_train)\n",
    "\n",
    "y_pred_opti = model_opti.predict(X_test)\n",
    "\n",
    "print('Accuracy : ', accuracy_score(y_test, y_pred_opti)) # Précision\n",
    "print('Matrice de confusion : ',confusion_matrix(y_test, y_pred_opti)) # Croisement entre les vraies données et celles prédites\n",
    "print('Rapport de classification : ', classification_report(y_test, y_pred_opti))"
   ]
  },
  {
   "cell_type": "markdown",
   "id": "05fcfd66",
   "metadata": {},
   "source": [
    "Ca a diminué le score... </br>\n",
    "Nouvel essai à partir des suggestions de ChatGPT"
   ]
  },
  {
   "cell_type": "code",
   "execution_count": null,
   "id": "4d5cdec4",
   "metadata": {},
   "outputs": [
    {
     "name": "stdout",
     "output_type": "stream",
     "text": [
      "Accuracy :  0.7597765363128491\n",
      "Matrice de confusion :  [[93 13]\n",
      " [30 43]]\n",
      "Rapport de classification :                precision    recall  f1-score   support\n",
      "\n",
      "           0       0.76      0.88      0.81       106\n",
      "           1       0.77      0.59      0.67        73\n",
      "\n",
      "    accuracy                           0.76       179\n",
      "   macro avg       0.76      0.73      0.74       179\n",
      "weighted avg       0.76      0.76      0.75       179\n",
      "\n"
     ]
    }
   ],
   "source": [
    "# Utilisateur du meilleur modèle estimé\n",
    "best_model = grid.best_estimator_\n",
    "# Prédiction\n",
    "y_pred_best = best_model.predict(X_test)\n",
    "# Evaluation\n",
    "print(\"Accuracy : \", accuracy_score(y_test, y_pred_best))\n",
    "print('Matrice de confusion : ', confusion_matrix(y_test, y_pred_best))\n",
    "print('Rapport de classification : ', classification_report(y_test, y_pred_best))"
   ]
  }
 ],
 "metadata": {
  "kernelspec": {
   "display_name": ".venv",
   "language": "python",
   "name": "python3"
  },
  "language_info": {
   "codemirror_mode": {
    "name": "ipython",
    "version": 3
   },
   "file_extension": ".py",
   "mimetype": "text/x-python",
   "name": "python",
   "nbconvert_exporter": "python",
   "pygments_lexer": "ipython3",
   "version": "3.12.3"
  }
 },
 "nbformat": 4,
 "nbformat_minor": 5
}
